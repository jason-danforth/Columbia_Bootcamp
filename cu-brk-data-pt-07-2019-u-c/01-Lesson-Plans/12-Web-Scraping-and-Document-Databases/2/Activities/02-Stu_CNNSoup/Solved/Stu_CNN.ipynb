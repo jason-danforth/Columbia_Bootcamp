{
 "cells": [
  {
   "cell_type": "code",
   "execution_count": 1,
   "metadata": {},
   "outputs": [],
   "source": [
    "# Dependencies\n",
    "import os\n",
    "from bs4 import BeautifulSoup as bs"
   ]
  },
  {
   "cell_type": "code",
   "execution_count": 2,
   "metadata": {},
   "outputs": [],
   "source": [
    "# Read HTML from file\n",
    "filepath = os.path.join(\"..\", \"Resources\", \"template.html\")\n",
    "with open(filepath) as file:\n",
    "    html = file.read()"
   ]
  },
  {
   "cell_type": "code",
   "execution_count": 6,
   "metadata": {
    "scrolled": true
   },
   "outputs": [
    {
     "data": {
      "text/plain": [
       "'<HTML>\\n\\n<HEAD>\\n    <TITLE>Top Ten Stories From 1996</TITLE>\\n</HEAD>\\n\\n<BODY BGCOLOR=\"#FFFFCC\" LINK=\"#162323\" ALINK=\"#FFFFCE\" VLINK=\"#162323\">\\n\\n<CENTER>\\n<P><BR>\\n\\n<TABLE BORDER=\"0\" CELLPADDING=\"0\" CELLSPACING=\"0\">\\n    <TR>\\n        <TD><IMG SRC=\"logos.gif\" WIDTH=\"112\" HEIGHT=\"60\" ALIGN=\"TOP\"></TD>\\n        <TD><IMG SRC=\"banner.gif\" WIDTH=\"360\" HEIGHT=\"60\" ALIGN=\"TOP\"></TD>\\n    </TR>\\n</TABLE>\\n</P>\\n</CENTER>\\n\\n\\n<BLOCKQUOTE>\\n    <CENTER>\\n\\n    <TABLE BORDER=\"0\" CELLPADDING=\"2\">\\n    <TR>\\n        <TD WIDTH=\"90\" VALIGN=\"TOP\" ROWSPAN=\"11\">\\n            <P ALIGN=\"RIGHT\"><B><TT>What were the biggest stories of the year?</TT></B><BR>\\n            <BR>\\n            <FONT SIZE=\"2\">It\\'s a question journalists like to ask themselves at the end of every\\n            year. Now you can join in the process. Here are our selections for the top ten news\\n            stories of 1996.<BR>\\n            <BR>\\n            Disagree with our choices? Then tell us what stories you think were most compelling\\n            in the poll below.</FONT>\\n        </TD>\\n        <TD WIDTH=\"4\" ROWSPAN=\"11\"></TD>\\n        <TD VALIGN=\"MIDDLE\" ROWSPAN=\"11\"><IMG SRC=\"generic/dot.gif\" WIDTH=\"1\" HEIGHT=\"250\" ALIGN=\"MIDDLE\"></TD>\\n        <TD WIDTH=\"10\" ROWSPAN=\"11\"></TD>\\n        <TD COLSPAN=\"4\" VALIGN=TOP>\\n            <P ALIGN=\"CENTER\"><IMG SRC=\"generic/topten.gif\" WIDTH=\"263\" HEIGHT=\"24\" ALIGN=\"MIDDLE\" VSPACE=\"5\">\\n        </TD>\\n    </TR>\\n    <TR>\\n        <TD><A HREF=\"topten/israel/israel.index.html\" TARGET=_top><IMG SRC=\"generic/1.gif\" WIDTH=\"17\" HEIGHT=\"17\" ALIGN=\"MIDDLE\" BORDER=0></A></TD>\\n        <TD><A HREF=\"topten/israel/israel.index.html\" TARGET=_top><B>Israel</B> elects <B>Netanyahu</A></B></TD>\\n    </TR>\\n    <TR>\\n        <TD><A HREF=\"topten/twa/twa.index.html\" TARGET=_top><IMG SRC=\"generic/2.gif\" WIDTH=\"17\" HEIGHT=\"17\" ALIGN=\"MIDDLE\" BORDER=0></A></TD>\\n        <TD><A HREF=\"topten/twa/twa.index.html\" TARGET=_top>Crash of TWA Flight 800</A></TD>\\n    </TR>\\n    <TR>\\n        <TD><A HREF=\"topten/yeltsin/yeltsin.index.html\" TARGET=_top><IMG SRC=\"generic/3.gif\" WIDTH=\"17\" HEIGHT=\"17\" ALIGN=\"MIDDLE\" BORDER=0></A></TD>\\n        <TD><A HREF=\"topten/yeltsin/yeltsin.index.html\" TARGET=_top><B>Russia</B> elects <B>Yeltsin</B></A></TD>\\n    </TR>\\n    <TR>\\n        <TD><A HREF=\"topten/clinton/clinton.index.html\" TARGET=_top><IMG SRC=\"generic/4.gif\" WIDTH=\"17\" HEIGHT=\"17\" ALIGN=\"MIDDLE\" BORDER=0></A></TD>\\n        <TD><A HREF=\"topten/clinton/clinton.index.html\" TARGET=_top><B>U.S</B>. elects <B>Clinton</B></A></TD>\\n    </TR>\\n    <TR>\\n        <TD><A HREF=\"topten/hutu/hutu.index.html\" TARGET=_top><IMG SRC=\"generic/5.gif\" WIDTH=\"17\" HEIGHT=\"17\" ALIGN=\"MIDDLE\" BORDER=0></A></TD>\\n        <TD><A HREF=\"topten/hutu/hutu.index.html\" TARGET=_top><B>Hutu-Tutsi</B> conflict in central Africa</A></TD>\\n    </TR>\\n    <TR>\\n        <TD><A HREF=\"topten/bosnia/bosnia.index.html\" TARGET=_top><IMG SRC=\"generic/6.gif\" WIDTH=\"17\" HEIGHT=\"17\" ALIGN=\"MIDDLE\" BORDER=0></A></TD>\\n        <TD><A HREF=\"topten/bosnia/bosnia.index.html\" TARGET=_top>Peace, elections in <B>Bosnia</B></A></TD>\\n    </TR>\\n    <TR>\\n        <TD><A HREF=\"topten/saudi/saudi.index.html\" TARGET=_top><IMG SRC=\"generic/7.gif\" WIDTH=\"17\" HEIGHT=\"17\" ALIGN=\"MIDDLE\" BORDER=0></A></TD>\\n        <TD><A HREF=\"topten/saudi/saudi.index.html\" TARGET=_top><B>U.S</B>. base bombed in <B>Saudi Arabia</B></A></TD>\\n    </TR>\\n    <TR>\\n        <TD><A HREF=\"topten/olympics/olympics.index.html\" TARGET=_top><IMG SRC=\"generic/8.gif\" WIDTH=\"17\" HEIGHT=\"17\" ALIGN=\"MIDDLE\" BORDER=0></A></TD>\\n        <TD><A HREF=\"topten/olympics/olympics.index.html\" TARGET=_top>Centennial <B>Olympic</B> Games</A></TD>\\n    </TR>\\n    <TR>\\n        <TD><A HREF=\"topten/aids/aids.index.html\" TARGET=_top><IMG SRC=\"generic/9.gif\" WIDTH=\"17\" HEIGHT=\"17\" ALIGN=\"MIDDLE\" BORDER=0></A></TD>\\n        <TD><A HREF=\"topten/aids/aids.index.html\" TARGET=_top>Advances against <B>AIDS</B></A></TD>\\n    </TR>\\n    <TR>\\n        <TD><A HREF=\"topten/unabomb/unabomb.index.html\" TARGET=_top><IMG SRC=\"generic/10.gif\" WIDTH=\"17\" HEIGHT=\"17\" ALIGN=\"MIDDLE\" BORDER=0></A></TD>\\n        <TD><A HREF=\"topten/unabomb/unabomb.index.html\" TARGET=_top><B>Unabomb</B> suspect <B>Ted Kaczynski</B> arrested</A></TD>\\n    </TR>\\n    </TABLE>\\n<BR clear = \"all\">\\n\\n\\n    <TABLE WIDTH=300>\\n    <TR>\\n    <TD>\\n    <CENTER><A HREF=\"topten/poll.html\" TARGET=_top><IMG SRC=\"poll.gif\" WIDTH=\"120\" HEIGHT=\"60\" ALIGN=\"MIDDLE\" BORDER=\"0\"></CENTER></A>\\n    </TD>\\n    <TD>\\n    <CENTER><A HREF=\"http://www-cgi.cnn.com/cgi-bin/quiz/yir_main/go.pl/main\" TARGET=_top><IMG SRC=\"quiz.gif\" WIDTH=\"120\" HEIGHT=\"60\" ALIGN=\"MIDDLE\" BORDER=\"0\"></CENTER></A>\\n    </TD>\\n    </TR>\\n    <TR><TD COLSPAN=2><CENTER><A TARGET=_top HREF=\"http://www-cgi.cnn.com/cgi-bin/poll/heavypoll.pl?slug=9612%2Fyir_top_10\">The top 10 stories according to our users</A></CENTER></TD></TR>\\n    </TABLE>\\n\\n\\n    <IMG SRC=\"generic/dot.gif\" WIDTH=\"450\" HEIGHT=\"1\" ALIGN=\"MIDDLE\"><BR>\\n\\n    <BR><IMG SRC=\"generic/dot.gif\" WIDTH=\"450\" HEIGHT=\"1\" ALIGN=\"MIDDLE\"><BR>\\n    <BR>\\n\\n    <CENTER>\\n    <A HREF=\"http://pathfinder.com/time/bestof1996/index.html\" TARGET=_top>\\n    T I M E: The Best of 1996</A>\\n    <BR clear = \"all\"><BR>\\n        <A HREF=\"http://pathfinder.com/@@qsdFOQcA62PJWEWu/time/moy/index.html\" TARGET=_top>\\n    T I M E: Man of the Year</A>\\n    <BR clear = \"all\"><BR>\\n    <A HREF=\"http://pathfinder.com/time/1996/\" TARGET=_top>\\n    <IMG SRC=\"time.gif\" WIDTH=\"540\" HEIGHT=\"50\" ALIGN=\"MIDDLE\" BORDER=\"0\"></A>\\n    <BR clear = \"all\"><BR><BR>\\n    <IMG SRC=\"generic/dot.gif\" WIDTH=\"450\" HEIGHT=\"1\" ALIGN=\"MIDDLE\">\\n    </CENTER>\\n    <BR clear = \"all\">\\n\\n    <TABLE BORDER=\"0\" CELLPADDING=\"0\" CELLSPACING=\"0\" WIDTH=\"63%\">\\n    <TR>\\n        <TD WIDTH=\"100%\">\\n            <P><B><TT>What makes a </TT></B><FONT SIZE=\"5\"><TT><B>big</B></TT></FONT><TT><B>\\n            story </B></TT><FONT SIZE=\"5\"><TT><B>BIG?</B></TT></FONT>\\n\\n\\n            <BLOCKQUOTE>\\n            <P>It depends on your criteria, of course, and your perspective. That\\'s why we offered\\n            a poll to find out what you think.</P>\\n            <P>For our list, we polled producers throughout the CNN/Pathfinder family of networks\\n            and publications, and weighed such criteria as a story\\'s long-term implications,\\n            geopolitical significance, user interest, amount of coverage, and old-fashioned newsworthiness.\\n            All these things help make a &quot;big&quot; story big.</P>\\n\\n            <P>By no means do we think our lists are the final word. Even our polls among CNN\\n            producers turned up a wide variety of responses. The process is meant to encourage\\n            you to reconsider the stories that dominated the media during the past year and determine\\n            for yourself which were mere sensations and which were truly significant.\\n            </BLOCKQUOTE>\\n        </TD>\\n    </TR>\\n    </TABLE>\\n\\n<BR CLEAR=ALL>\\n<BR>\\n<CENTER>\\n<BR CLEAR=ALL>\\n<BR>\\n<IMG SRC=\"generic/dot.gif\" WIDTH=\"450\" HEIGHT=\"1\" ALIGN=\"MIDDLE\">\\n<BR CLEAR=ALL><BR>\\n\\n<TABLE WIDTH=300><TR VALIGN=CENTER>\\n<TD ALIGN=CENTER><IMG SRC=\"what_you_think.gif\" ALT=\"What you think\" WIDTH=\"60\" HEIGHT=\"59\" BORDER=\"0\"></TD>\\n<TD><STRONG><A NAME=\"_top\" HREF=\"/feedback/index.html\">Tell us what you think</A></STRONG><BR><BR>\\n<STRONG><A NAME=\"_top\" HREF=\"/feedback/comments.html\">You said it...</A></STRONG></TD>\\n</TR></TABLE>\\n\\n<BR CLEAR=ALL>\\n<BR>\\n<IMG SRC=\"generic/dot.gif\" WIDTH=\"450\" HEIGHT=\"1\" ALIGN=\"MIDDLE\">\\n<BR CLEAR=ALL><BR>\\n</CENTER>\\n\\n<CENTER><A HREF=\"generic/credits.index.html\" TARGET=_top><TT><B>C R E D I T S</B></TT></A></CENTER>\\n\\n<BR CLEAR=ALL>\\n<BR>\\n<IMG SRC=\"generic/dot.gif\" WIDTH=\"450\" HEIGHT=\"1\" ALIGN=\"MIDDLE\">\\n<BR CLEAR=ALL><BR>\\n<CENTER><A HREF=\"#TOP\"><TT><B>Back to top</B></TT></A></CENTER>\\n<BR CLEAR=ALL><BR>\\n<FONT SIZE=-1><P>&#169; 1996 Cable News Network, Inc.<BR>\\nAll Rights Reserved.</FONT>\\n<H6><A HREF=\"http://cnn.com/interactive_legal.html\" target=_top>Terms</A> under which this\\n     service is provided to you.</H6>\\n</CENTER>\\n</CENTER>\\n    </BLOCKQUOTE>\\n\\n\\n</BODY>\\n\\n</HTML>'"
      ]
     },
     "execution_count": 6,
     "metadata": {},
     "output_type": "execute_result"
    }
   ],
   "source": [
    "html"
   ]
  },
  {
   "cell_type": "code",
   "execution_count": 3,
   "metadata": {},
   "outputs": [],
   "source": [
    "# Create a Beautiful Soup object\n",
    "soup = bs(html, 'html.parser')"
   ]
  },
  {
   "cell_type": "code",
   "execution_count": 5,
   "metadata": {},
   "outputs": [
    {
     "data": {
      "text/plain": [
       "'..\\\\Resources\\\\template.html'"
      ]
     },
     "execution_count": 5,
     "metadata": {},
     "output_type": "execute_result"
    }
   ],
   "source": [
    "filepath"
   ]
  },
  {
   "cell_type": "code",
   "execution_count": 4,
   "metadata": {},
   "outputs": [
    {
     "name": "stdout",
     "output_type": "stream",
     "text": [
      "Top Ten Stories From 1996\n"
     ]
    }
   ],
   "source": [
    "# Extract title text\n",
    "title = soup.title.text\n",
    "print(title)"
   ]
  },
  {
   "cell_type": "code",
   "execution_count": 7,
   "metadata": {},
   "outputs": [
    {
     "data": {
      "text/plain": [
       "[<p><br/>\n",
       " <table border=\"0\" cellpadding=\"0\" cellspacing=\"0\">\n",
       " <tr>\n",
       " <td><img align=\"TOP\" height=\"60\" src=\"logos.gif\" width=\"112\"/></td>\n",
       " <td><img align=\"TOP\" height=\"60\" src=\"banner.gif\" width=\"360\"/></td>\n",
       " </tr>\n",
       " </table>\n",
       " </p>,\n",
       " <p align=\"RIGHT\"><b><tt>What were the biggest stories of the year?</tt></b><br/>\n",
       " <br/>\n",
       " <font size=\"2\">It's a question journalists like to ask themselves at the end of every\n",
       "             year. Now you can join in the process. Here are our selections for the top ten news\n",
       "             stories of 1996.<br/>\n",
       " <br/>\n",
       "             Disagree with our choices? Then tell us what stories you think were most compelling\n",
       "             in the poll below.</font>\n",
       " </p>,\n",
       " <p align=\"CENTER\"><img align=\"MIDDLE\" height=\"24\" src=\"generic/topten.gif\" vspace=\"5\" width=\"263\"/>\n",
       " </p>,\n",
       " <p><b><tt>What makes a </tt></b><font size=\"5\"><tt><b>big</b></tt></font><tt><b>\n",
       "             story </b></tt><font size=\"5\"><tt><b>BIG?</b></tt></font>\n",
       " <blockquote>\n",
       " <p>It depends on your criteria, of course, and your perspective. That's why we offered\n",
       "             a poll to find out what you think.</p>\n",
       " <p>For our list, we polled producers throughout the CNN/Pathfinder family of networks\n",
       "             and publications, and weighed such criteria as a story's long-term implications,\n",
       "             geopolitical significance, user interest, amount of coverage, and old-fashioned newsworthiness.\n",
       "             All these things help make a \"big\" story big.</p>\n",
       " <p>By no means do we think our lists are the final word. Even our polls among CNN\n",
       "             producers turned up a wide variety of responses. The process is meant to encourage\n",
       "             you to reconsider the stories that dominated the media during the past year and determine\n",
       "             for yourself which were mere sensations and which were truly significant.\n",
       "             </p></blockquote>\n",
       " </p>,\n",
       " <p>It depends on your criteria, of course, and your perspective. That's why we offered\n",
       "             a poll to find out what you think.</p>,\n",
       " <p>For our list, we polled producers throughout the CNN/Pathfinder family of networks\n",
       "             and publications, and weighed such criteria as a story's long-term implications,\n",
       "             geopolitical significance, user interest, amount of coverage, and old-fashioned newsworthiness.\n",
       "             All these things help make a \"big\" story big.</p>,\n",
       " <p>By no means do we think our lists are the final word. Even our polls among CNN\n",
       "             producers turned up a wide variety of responses. The process is meant to encourage\n",
       "             you to reconsider the stories that dominated the media during the past year and determine\n",
       "             for yourself which were mere sensations and which were truly significant.\n",
       "             </p>,\n",
       " <p>© 1996 Cable News Network, Inc.<br/>\n",
       " All Rights Reserved.</p>]"
      ]
     },
     "execution_count": 7,
     "metadata": {},
     "output_type": "execute_result"
    }
   ],
   "source": [
    "soup.find_all('p')"
   ]
  },
  {
   "cell_type": "code",
   "execution_count": 5,
   "metadata": {
    "scrolled": true
   },
   "outputs": [
    {
     "name": "stdout",
     "output_type": "stream",
     "text": [
      "\n",
      "\n",
      "What were the biggest stories of the year?\n",
      "\n",
      "It's a question journalists like to ask themselves at the end of every\n",
      "            year. Now you can join in the process. Here are our selections for the top ten news\n",
      "            stories of 1996.\n",
      "\n",
      "            Disagree with our choices? Then tell us what stories you think were most compelling\n",
      "            in the poll below.\n",
      "\n",
      "\n",
      "\n",
      "What makes a big\n",
      "            story BIG?\n",
      "\n",
      "It depends on your criteria, of course, and your perspective. That's why we offered\n",
      "            a poll to find out what you think.\n",
      "For our list, we polled producers throughout the CNN/Pathfinder family of networks\n",
      "            and publications, and weighed such criteria as a story's long-term implications,\n",
      "            geopolitical significance, user interest, amount of coverage, and old-fashioned newsworthiness.\n",
      "            All these things help make a \"big\" story big.\n",
      "By no means do we think our lists are the final word. Even our polls among CNN\n",
      "            producers turned up a wide variety of responses. The process is meant to encourage\n",
      "            you to reconsider the stories that dominated the media during the past year and determine\n",
      "            for yourself which were mere sensations and which were truly significant.\n",
      "            \n",
      "© 1996 Cable News Network, Inc.\n",
      "All Rights Reserved.\n"
     ]
    }
   ],
   "source": [
    "# Print all paragraph texts\n",
    "paragraphs = soup.find_all('p')\n",
    "for paragraph in paragraphs:\n",
    "    print(paragraph.text)"
   ]
  },
  {
   "cell_type": "code",
   "execution_count": 9,
   "metadata": {},
   "outputs": [
    {
     "name": "stdout",
     "output_type": "stream",
     "text": [
      "<body alink=\"#FFFFCE\" bgcolor=\"#FFFFCC\" link=\"#162323\" vlink=\"#162323\">\n",
      " <center>\n",
      "  <p>\n",
      "   <br/>\n",
      "   <table border=\"0\" cellpadding=\"0\" cellspacing=\"0\">\n",
      "    <tr>\n",
      "     <td>\n",
      "      <img align=\"TOP\" height=\"60\" src=\"logos.gif\" width=\"112\"/>\n",
      "     </td>\n",
      "     <td>\n",
      "      <img align=\"TOP\" height=\"60\" src=\"banner.gif\" width=\"360\"/>\n",
      "     </td>\n",
      "    </tr>\n",
      "   </table>\n",
      "  </p>\n",
      " </center>\n",
      " <blockquote>\n",
      "  <center>\n",
      "   <table border=\"0\" cellpadding=\"2\">\n",
      "    <tr>\n",
      "     <td rowspan=\"11\" valign=\"TOP\" width=\"90\">\n",
      "      <p align=\"RIGHT\">\n",
      "       <b>\n",
      "        <tt>\n",
      "         What were the biggest stories of the year?\n",
      "        </tt>\n",
      "       </b>\n",
      "       <br/>\n",
      "       <br/>\n",
      "       <font size=\"2\">\n",
      "        It's a question journalists like to ask themselves at the end of every\n",
      "            year. Now you can join in the process. Here are our selections for the top ten news\n",
      "            stories of 1996.\n",
      "        <br/>\n",
      "        <br/>\n",
      "        Disagree with our choices? Then tell us what stories you think were most compelling\n",
      "            in the poll below.\n",
      "       </font>\n",
      "      </p>\n",
      "     </td>\n",
      "     <td rowspan=\"11\" width=\"4\">\n",
      "     </td>\n",
      "     <td rowspan=\"11\" valign=\"MIDDLE\">\n",
      "      <img align=\"MIDDLE\" height=\"250\" src=\"generic/dot.gif\" width=\"1\"/>\n",
      "     </td>\n",
      "     <td rowspan=\"11\" width=\"10\">\n",
      "     </td>\n",
      "     <td colspan=\"4\" valign=\"TOP\">\n",
      "      <p align=\"CENTER\">\n",
      "       <img align=\"MIDDLE\" height=\"24\" src=\"generic/topten.gif\" vspace=\"5\" width=\"263\"/>\n",
      "      </p>\n",
      "     </td>\n",
      "    </tr>\n",
      "    <tr>\n",
      "     <td>\n",
      "      <a href=\"topten/israel/israel.index.html\" target=\"_top\">\n",
      "       <img align=\"MIDDLE\" border=\"0\" height=\"17\" src=\"generic/1.gif\" width=\"17\"/>\n",
      "      </a>\n",
      "     </td>\n",
      "     <td>\n",
      "      <a href=\"topten/israel/israel.index.html\" target=\"_top\">\n",
      "       <b>\n",
      "        Israel\n",
      "       </b>\n",
      "       elects\n",
      "       <b>\n",
      "        Netanyahu\n",
      "       </b>\n",
      "      </a>\n",
      "     </td>\n",
      "    </tr>\n",
      "   </table>\n",
      "  </center>\n",
      " </blockquote>\n",
      "</body>\n"
     ]
    }
   ],
   "source": [
    "print(soup.body.prettify())"
   ]
  },
  {
   "cell_type": "code",
   "execution_count": 10,
   "metadata": {},
   "outputs": [],
   "source": [
    "# Print all ten headlines\n",
    "tds = soup.find_all('td')\n",
    "# A blank list to hold the headlines\n",
    "headlines = []\n",
    "# Loop over td elements\n",
    "for td in tds:\n",
    "    # If td element has an anchor...\n",
    "    if (td.a):\n",
    "        # And the anchor has non-blank text...\n",
    "        if (td.a.text):\n",
    "            # Append the td to the list\n",
    "            headlines.append(td)"
   ]
  },
  {
   "cell_type": "code",
   "execution_count": 13,
   "metadata": {},
   "outputs": [
    {
     "name": "stdout",
     "output_type": "stream",
     "text": [
      "Israel elects Netanyahu\n",
      "Crash of TWA Flight 800\n",
      "Russia elects Yeltsin\n",
      "U.S. elects Clinton\n",
      "Hutu-Tutsi conflict in central Africa\n",
      "Peace, elections in Bosnia\n",
      "U.S. base bombed in Saudi Arabia\n",
      "Centennial Olympic Games\n",
      "Advances against AIDS\n",
      "Unabomb suspect Ted Kaczynski arrested\n"
     ]
    }
   ],
   "source": [
    "# Print only the headlines\n",
    "for x in range(10):\n",
    "    print(headlines[x].text)        \n"
   ]
  },
  {
   "cell_type": "code",
   "execution_count": null,
   "metadata": {},
   "outputs": [],
   "source": []
  }
 ],
 "metadata": {
  "kernelspec": {
   "display_name": "Python 3",
   "language": "python",
   "name": "python3"
  },
  "language_info": {
   "codemirror_mode": {
    "name": "ipython",
    "version": 3
   },
   "file_extension": ".py",
   "mimetype": "text/x-python",
   "name": "python",
   "nbconvert_exporter": "python",
   "pygments_lexer": "ipython3",
   "version": "3.7.3"
  },
  "varInspector": {
   "cols": {
    "lenName": 16,
    "lenType": 16,
    "lenVar": 40
   },
   "kernels_config": {
    "python": {
     "delete_cmd_postfix": "",
     "delete_cmd_prefix": "del ",
     "library": "var_list.py",
     "varRefreshCmd": "print(var_dic_list())"
    },
    "r": {
     "delete_cmd_postfix": ") ",
     "delete_cmd_prefix": "rm(",
     "library": "var_list.r",
     "varRefreshCmd": "cat(var_dic_list()) "
    }
   },
   "types_to_exclude": [
    "module",
    "function",
    "builtin_function_or_method",
    "instance",
    "_Feature"
   ],
   "window_display": false
  }
 },
 "nbformat": 4,
 "nbformat_minor": 2
}
