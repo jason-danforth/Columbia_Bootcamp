{
 "cells": [
  {
   "cell_type": "markdown",
   "metadata": {
    "slideshow": {
     "slide_type": "slide"
    }
   },
   "source": [
    "# Scraping with Pandas"
   ]
  },
  {
   "cell_type": "code",
   "execution_count": 1,
   "metadata": {
    "slideshow": {
     "slide_type": "slide"
    }
   },
   "outputs": [],
   "source": [
    "import pandas as pd"
   ]
  },
  {
   "cell_type": "markdown",
   "metadata": {
    "slideshow": {
     "slide_type": "subslide"
    }
   },
   "source": [
    "We can use the `read_html` function in Pandas to automatically scrape any tabular data from a page."
   ]
  },
  {
   "cell_type": "code",
   "execution_count": 2,
   "metadata": {
    "slideshow": {
     "slide_type": "fragment"
    }
   },
   "outputs": [],
   "source": [
    "url = 'https://en.wikipedia.org/wiki/List_of_capitals_in_the_United_States'"
   ]
  },
  {
   "cell_type": "code",
   "execution_count": 3,
   "metadata": {
    "slideshow": {
     "slide_type": "fragment"
    }
   },
   "outputs": [
    {
     "data": {
      "text/plain": [
       "[             State Abr. State-hood         Capital Capital since Area (mi²)  \\\n",
       "              State Abr. State-hood         Capital Capital since Area (mi²)   \n",
       " 0          Alabama   AL       1819      Montgomery          1846     159.80   \n",
       " 1           Alaska   AK       1959          Juneau          1906    2716.70   \n",
       " 2          Arizona   AZ       1912         Phoenix          1889     517.60   \n",
       " 3         Arkansas   AR       1836     Little Rock          1821     116.20   \n",
       " 4       California   CA       1850      Sacramento          1854      97.90   \n",
       " 5         Colorado   CO       1876          Denver          1867     153.30   \n",
       " 6      Connecticut   CT       1788        Hartford          1875      17.30   \n",
       " 7         Delaware   DE       1787           Dover          1777      22.40   \n",
       " 8          Florida   FL       1845     Tallahassee          1824      95.70   \n",
       " 9          Georgia   GA       1788         Atlanta          1868     133.50   \n",
       " 10          Hawaii   HI       1959        Honolulu          1845      68.40   \n",
       " 11           Idaho   ID       1890           Boise          1865      63.80   \n",
       " 12        Illinois   IL       1818     Springfield          1837      54.00   \n",
       " 13         Indiana   IN       1816    Indianapolis          1825     361.50   \n",
       " 14            Iowa   IA       1846      Des Moines          1857      75.80   \n",
       " 15          Kansas   KS       1861          Topeka          1856      56.00   \n",
       " 16        Kentucky   KY       1792       Frankfort          1792      14.70   \n",
       " 17       Louisiana   LA       1812     Baton Rouge          1880      76.80   \n",
       " 18           Maine   ME       1820         Augusta          1832      55.40   \n",
       " 19        Maryland   MD       1788       Annapolis          1694       6.73   \n",
       " 20   Massachusetts   MA       1788          Boston          1630      89.60   \n",
       " 21        Michigan   MI       1837         Lansing          1847      35.00   \n",
       " 22       Minnesota   MN       1858      Saint Paul          1849      52.80   \n",
       " 23     Mississippi   MS       1817         Jackson          1821     104.90   \n",
       " 24        Missouri   MO       1821  Jefferson City          1826      27.30   \n",
       " 25         Montana   MT       1889          Helena          1875      14.00   \n",
       " 26        Nebraska   NE       1867         Lincoln          1867      74.60   \n",
       " 27          Nevada   NV       1864     Carson City          1861     143.40   \n",
       " 28   New Hampshire   NH       1788         Concord          1808      64.30   \n",
       " 29      New Jersey   NJ       1787         Trenton          1784       7.66   \n",
       " 30      New Mexico   NM       1912        Santa Fe          1610      37.30   \n",
       " 31        New York   NY       1788          Albany          1797      21.40   \n",
       " 32  North Carolina   NC       1789         Raleigh          1792     114.60   \n",
       " 33    North Dakota   ND       1889        Bismarck          1883      26.90   \n",
       " 34            Ohio   OH       1803        Columbus          1816     210.30   \n",
       " 35        Oklahoma   OK       1907   Oklahoma City          1910     620.30   \n",
       " 36          Oregon   OR       1859           Salem          1855      45.70   \n",
       " 37    Pennsylvania   PA       1787      Harrisburg          1812       8.11   \n",
       " 38    Rhode Island   RI       1790      Providence          1900      18.50   \n",
       " 39  South Carolina   SC       1788        Columbia          1786     125.20   \n",
       " 40    South Dakota   SD       1889          Pierre          1889      13.00   \n",
       " 41       Tennessee   TN       1796       Nashville          1826     525.90   \n",
       " 42           Texas   TX       1845          Austin          1839     305.10   \n",
       " 43            Utah   UT       1896  Salt Lake City          1858     109.10   \n",
       " 44         Vermont   VT       1791      Montpelier          1805      10.20   \n",
       " 45        Virginia   VA       1788        Richmond          1780      60.10   \n",
       " 46      Washington   WA       1889         Olympia          1853      16.70   \n",
       " 47   West Virginia   WV       1863      Charleston          1885      31.60   \n",
       " 48       Wisconsin   WI       1848         Madison          1838      68.70   \n",
       " 49         Wyoming   WY       1890        Cheyenne          1869      21.10   \n",
       " \n",
       "                            Population (2010)  \\\n",
       "    Municipal (Within city proper boundaries)   \n",
       " 0                                     198218   \n",
       " 1                                      31275   \n",
       " 2                                    1660272   \n",
       " 3                                     193524   \n",
       " 4                                     508529   \n",
       " 5                                     716492   \n",
       " 6                                     124775   \n",
       " 7                                      36047   \n",
       " 8                                     181376   \n",
       " 9                                     498044   \n",
       " 10                                    359870   \n",
       " 11                                    205671   \n",
       " 12                                    116250   \n",
       " 13                                    867125   \n",
       " 14                                    203433   \n",
       " 15                                    127473   \n",
       " 16                                     25527   \n",
       " 17                                    225374   \n",
       " 18                                     19136   \n",
       " 19                                     38394   \n",
       " 20                                    694583   \n",
       " 21                                    114297   \n",
       " 22                                    285068   \n",
       " 23                                    173514   \n",
       " 24                                     43079   \n",
       " 25                                     28190   \n",
       " 26                                    258379   \n",
       " 27                                     55274   \n",
       " 28                                     42695   \n",
       " 29                                     84913   \n",
       " 30                                     75764   \n",
       " 31                                     97856   \n",
       " 32                                    403892   \n",
       " 33                                     61272   \n",
       " 34                                    892553   \n",
       " 35                                    649021   \n",
       " 36                                    154637   \n",
       " 37                                     49528   \n",
       " 38                                    178042   \n",
       " 39                                    129272   \n",
       " 40                                     13646   \n",
       " 41                                    691243   \n",
       " 42                                    964254   \n",
       " 43                                    186440   \n",
       " 44                                      7855   \n",
       " 45                                    204214   \n",
       " 46                                     46478   \n",
       " 47                                     51400   \n",
       " 48                                    233209   \n",
       " 49                                     59466   \n",
       " \n",
       "                                                                                                    \\\n",
       "    Metropolitan (Both within the capital city proper and the surrounding area of the city proper)   \n",
       " 0                                            373903.0                                               \n",
       " 1                                                 NaN                                               \n",
       " 2                                           4857962.0                                               \n",
       " 3                                            699757.0                                               \n",
       " 4                                           2345210.0                                               \n",
       " 5                                           2932415.0                                               \n",
       " 6                                           1212381.0                                               \n",
       " 7                                            162310.0                                               \n",
       " 8                                            367413.0                                               \n",
       " 9                                           5949951.0                                               \n",
       " 10                                           953207.0                                               \n",
       " 11                                           616561.0                                               \n",
       " 12                                           210170.0                                               \n",
       " 13                                          2004230.0                                               \n",
       " 14                                           569633.0                                               \n",
       " 15                                           230870.0                                               \n",
       " 16                                            70758.0                                               \n",
       " 17                                           830480.0                                               \n",
       " 18                                           117114.0                                               \n",
       " 19                                                NaN                                               \n",
       " 20                                          4628910.0                                               \n",
       " 21                                           464036.0                                               \n",
       " 22                                          3348659.0                                               \n",
       " 23                                           567122.0                                               \n",
       " 24                                           149807.0                                               \n",
       " 25                                            74801.0                                               \n",
       " 26                                           302157.0                                               \n",
       " 27                                                NaN                                               \n",
       " 28                                           146445.0                                               \n",
       " 29                                           366513.0                                               \n",
       " 30                                           183732.0                                               \n",
       " 31                                           857592.0                                               \n",
       " 32                                          1130490.0                                               \n",
       " 33                                           108779.0                                               \n",
       " 34                                          2078725.0                                               \n",
       " 35                                          1396445.0                                               \n",
       " 36                                           390738.0                                               \n",
       " 37                                           647390.0                                               \n",
       " 38                                          1600852.0                                               \n",
       " 39                                           767598.0                                               \n",
       " 40                                                NaN                                               \n",
       " 41                                          1903045.0                                               \n",
       " 42                                          2168316.0                                               \n",
       " 43                                          1087873.0                                               \n",
       " 44                                                NaN                                               \n",
       " 45                                          1208101.0                                               \n",
       " 46                                           234670.0                                               \n",
       " 47                                           304214.0                                               \n",
       " 48                                           605435.0                                               \n",
       " 49                                            91738.0                                               \n",
       " \n",
       "                                                                          Notes  \n",
       "    Rank in state Rank in US                                              Notes  \n",
       " 0              2      119.0            Birmingham is the state's largest city.  \n",
       " 1              3        NaN            Largest capital by municipal land area.  \n",
       " 2              1        5.0  Phoenix is the most populous capital city in t...  \n",
       " 3              1      117.0                                                NaN  \n",
       " 4              6       35.0                                                NaN  \n",
       " 5              1       19.0                                                NaN  \n",
       " 6              3      199.0                                                NaN  \n",
       " 7              2        NaN     Longest-serving capital in terms of statehood.  \n",
       " 8              7      125.0                                                NaN  \n",
       " 9              1       37.0     Most populous metro area of any state capital.  \n",
       " 10             1       56.0                                                NaN  \n",
       " 11             1      103.0                                                NaN  \n",
       " 12             6      221.0                                                NaN  \n",
       " 13             1       16.0                                                NaN  \n",
       " 14             1      105.0                                                NaN  \n",
       " 15             4      193.0                                                NaN  \n",
       " 16            14        NaN                                                NaN  \n",
       " 17             2       99.0  Baton Rouge is located in the state's most pop...  \n",
       " 18             8        NaN                    Portland is a previous capital.  \n",
       " 19             7        NaN  Smallest capital by land area. Capitol buildin...  \n",
       " 20             1       21.0   Longest continuously serving capital in the U.S.  \n",
       " 21             5      226.0  Only state capital that is not also its county...  \n",
       " 22             2       67.0                                                NaN  \n",
       " 23             1      134.0                                                NaN  \n",
       " 24            15        NaN                                                NaN  \n",
       " 25             6        NaN                                                NaN  \n",
       " 26             2       72.0                                                NaN  \n",
       " 27             6        NaN  One of two independent cities that serves as a...  \n",
       " 28             3        NaN                                                NaN  \n",
       " 29            10        NaN  Served as the U.S. capital for a short period ...  \n",
       " 30             4        NaN  Longest serving capital in the United States. ...  \n",
       " 31             6        NaN                                                NaN  \n",
       " 32             2       43.0                                                NaN  \n",
       " 33             2        NaN                                                NaN  \n",
       " 34             1       14.0  Columbus is the largest city in Ohio, the seco...  \n",
       " 35             1       27.0            Shortest serving current state capital.  \n",
       " 36             3      149.0                                                NaN  \n",
       " 37             9        NaN                                                NaN  \n",
       " 38             1      130.0  Also served as the state's capital 1636–1686 a...  \n",
       " 39             2      191.0                                                NaN  \n",
       " 40             8        NaN                                                NaN  \n",
       " 41             1       24.0                                                NaN  \n",
       " 42             4       11.0  Austin is the largest state capital that is no...  \n",
       " 43             1      124.0                                                NaN  \n",
       " 44             6        NaN                 Least populous U.S. state capital.  \n",
       " 45             4      104.0  Richmond is one of two independent cities that...  \n",
       " 46            24        NaN                                                NaN  \n",
       " 47             1        NaN  Charleston is the smallest capital city that i...  \n",
       " 48             2       82.0                                                NaN  \n",
       " 49             1        NaN                                                NaN  ,\n",
       "                Insular area Abr.  Date           Capital  Population (2010)  \\\n",
       " 0            American Samoa   AS  1899         Pago Pago               3656   \n",
       " 1                      Guam   GU  1898           Hagåtña               1051   \n",
       " 2  Northern Mariana Islands   MP  1947            Saipan              48220   \n",
       " 3               Puerto Rico   PR  1898          San Juan             395326   \n",
       " 4       U.S. Virgin Islands   VI  1917  Charlotte Amalie              18481   \n",
       " \n",
       "                                                Notes  \n",
       " 0  Pago Pago refers to both a village and a group...  \n",
       " 1              Dededo is the area's largest village.  \n",
       " 2                                                NaN  \n",
       " 3  The city of San Juan was originally called Pue...  \n",
       " 4                                                NaN  ,\n",
       "                                State                                  Capital  \\\n",
       " 0       Alabama[16]Statehood in 1819                              San Agustín   \n",
       " 1       Alabama[16]Statehood in 1819                                 Savannah   \n",
       " 2       Alabama[16]Statehood in 1819                                 Savannah   \n",
       " 3       Alabama[16]Statehood in 1819                                 Savannah   \n",
       " 4       Alabama[16]Statehood in 1819                             Augusta (GA)   \n",
       " 5       Alabama[16]Statehood in 1819                        Heard's Fort (GA)   \n",
       " 6       Alabama[16]Statehood in 1819                             Augusta (GA)   \n",
       " 7       Alabama[16]Statehood in 1819                            Savannah (GA)   \n",
       " 8       Alabama[16]Statehood in 1819                            Ebenezer (GA)   \n",
       " 9       Alabama[16]Statehood in 1819                            Savannah (GA)   \n",
       " 10      Alabama[16]Statehood in 1819                             Augusta (GA)   \n",
       " 11      Alabama[16]Statehood in 1819                          Louisville (GA)   \n",
       " 12      Alabama[16]Statehood in 1819                             Natchez (MS)   \n",
       " 13      Alabama[16]Statehood in 1819                          Washington (MS)   \n",
       " 14      Alabama[16]Statehood in 1819                             St. Stephens   \n",
       " 15      Alabama[16]Statehood in 1819                               Huntsville   \n",
       " 16      Alabama[16]Statehood in 1819                                  Cahawba   \n",
       " 17      Alabama[16]Statehood in 1819                               Tuscaloosa   \n",
       " 18      Alabama[16]Statehood in 1819                               Montgomery   \n",
       " 19       Alaska[18]Statehood in 1959                    Novo-ArkhangelskSitka   \n",
       " 20       Alaska[18]Statehood in 1959                    Novo-ArkhangelskSitka   \n",
       " 21       Alaska[18]Statehood in 1959                    Novo-ArkhangelskSitka   \n",
       " 22       Alaska[18]Statehood in 1959                                   Juneau   \n",
       " 23       Alaska[18]Statehood in 1959                                   Juneau   \n",
       " 24       Alaska[18]Statehood in 1959                                   Juneau   \n",
       " 25      Arizona[19]Statehood in 1912                            Santa Fe (NM)   \n",
       " 26      Arizona[19]Statehood in 1912                            Santa Fe (NM)   \n",
       " 27      Arizona[19]Statehood in 1912                             Mesilla (NM)   \n",
       " 28      Arizona[19]Statehood in 1912                         San Antonio (TX)   \n",
       " 29      Arizona[19]Statehood in 1912                             Fort Whipple   \n",
       " ..                               ...                                      ...   \n",
       " 444    Virginia[48]Statehood in 1776            Middle PlantationWilliamsburg   \n",
       " 445    Virginia[48]Statehood in 1776                                 Richmond   \n",
       " 446  Washington[49]Statehood in 1889                            Champoeg (OR)   \n",
       " 447  Washington[49]Statehood in 1889                         Oregon City (OR)   \n",
       " 448  Washington[49]Statehood in 1889                         Oregon City (OR)   \n",
       " 449  Washington[49]Statehood in 1889                               Salem (OR)   \n",
       " 450  Washington[49]Statehood in 1889                                  Olympia   \n",
       " 451  Washington[49]Statehood in 1889                                  Olympia   \n",
       " 452   West VirginiaStatehood in 1863                           Jamestown (VA)   \n",
       " 453   West VirginiaStatehood in 1863  Middle Plantation (VA)Williamsburg (VA)   \n",
       " 454   West VirginiaStatehood in 1863  Middle Plantation (VA)Williamsburg (VA)   \n",
       " 455   West VirginiaStatehood in 1863  Middle Plantation (VA)Williamsburg (VA)   \n",
       " 456   West VirginiaStatehood in 1863                            Richmond (VA)   \n",
       " 457   West VirginiaStatehood in 1863                                 Wheeling   \n",
       " 458   West VirginiaStatehood in 1863                                 Wheeling   \n",
       " 459   West VirginiaStatehood in 1863                               Charleston   \n",
       " 460   West VirginiaStatehood in 1863                                 Wheeling   \n",
       " 461   West VirginiaStatehood in 1863                               Charleston   \n",
       " 462   Wisconsin[50]Statehood in 1848                            Marietta (OH)   \n",
       " 463   Wisconsin[50]Statehood in 1848                           Vincennes (IN)   \n",
       " 464   Wisconsin[50]Statehood in 1848                           Kaskaskia (IL)   \n",
       " 465   Wisconsin[50]Statehood in 1848                             Detroit (MI)   \n",
       " 466   Wisconsin[50]Statehood in 1848                                  Belmont   \n",
       " 467   Wisconsin[50]Statehood in 1848                          Burlington (IA)   \n",
       " 468   Wisconsin[50]Statehood in 1848                                  Madison   \n",
       " 469   Wisconsin[50]Statehood in 1848                                  Madison   \n",
       " 470     Wyoming[51]Statehood in 1890                            Lewiston (ID)   \n",
       " 471     Wyoming[51]Statehood in 1890                             Yankton (SD)   \n",
       " 472     Wyoming[51]Statehood in 1890                                 Cheyenne   \n",
       " 473     Wyoming[51]Statehood in 1890                                 Cheyenne   \n",
       " \n",
       "      Date                                              Notes  \n",
       " 0    1565   Capital of the Spanish colony of La Florida.[17]  \n",
       " 1    1733  Capital of the British proprietary Colony of G...  \n",
       " 2    1755        Capital of the British Province of Georgia.  \n",
       " 3    1776                  Capitals of the State of Georgia.  \n",
       " 4    1778                  Capitals of the State of Georgia.  \n",
       " 5    1780                  Capitals of the State of Georgia.  \n",
       " 6    1781                  Capitals of the State of Georgia.  \n",
       " 7    1782                  Capitals of the State of Georgia.  \n",
       " 8    1782                  Capitals of the State of Georgia.  \n",
       " 9    1784                  Capitals of the State of Georgia.  \n",
       " 10   1786                  Capitals of the State of Georgia.  \n",
       " 11   1796                  Capitals of the State of Georgia.  \n",
       " 12   1798             Capitals of the Mississippi Territory.  \n",
       " 13   1802             Capitals of the Mississippi Territory.  \n",
       " 14   1817                  Capital of the Alabama Territory.  \n",
       " 15   1819                  Capitals of the State of Alabama.  \n",
       " 16   1820                  Capitals of the State of Alabama.  \n",
       " 17   1826                  Capitals of the State of Alabama.  \n",
       " 18   1846  Capital of the State of Alabama.(Capital of th...  \n",
       " 19   1808           Capital of the Russian colony of Alaska.  \n",
       " 20   1867               Capital of the Department of Alaska.  \n",
       " 21   1900                Capitals of the District of Alaska.  \n",
       " 22   1906                Capitals of the District of Alaska.  \n",
       " 23   1912                Capital of the Territory of Alaska.  \n",
       " 24   1959                    Capital of the State of Alaska.  \n",
       " 25   1848  Capital of the U.S. provisional government of ...  \n",
       " 26   1850  Capital of the U.S. Territory of New Mexico 18...  \n",
       " 27   1862  Capital of the Confederate Territory of Arizon...  \n",
       " 28   1862  Capital of the government-in-exile of the Conf...  \n",
       " 29   1864         Capitals of the U.S. Territory of Arizona.  \n",
       " ..    ...                                                ...  \n",
       " 444  1776           Capital of the Commonwealth of Virginia.  \n",
       " 445  1780  Capital of the Commonwealth of Virginia.(Capit...  \n",
       " 446  1843  Temporary capital of the disputed Oregon Country.  \n",
       " 447  1843  Capital of the Provisional Government of Orego...  \n",
       " 448  1848               Capitals of the Territory of Oregon.  \n",
       " 449  1851               Capitals of the Territory of Oregon.  \n",
       " 450  1853            Capital of the Territory of Washington.  \n",
       " 451  1889                Capital of the State of Washington.  \n",
       " 452  1619        Capitals of the English Colony of Virginia.  \n",
       " 453  1698        Capitals of the English Colony of Virginia.  \n",
       " 454  1707         Capital of the British Colony of Virginia.  \n",
       " 455  1776          Capitals of the Commonwealth of Virginia.  \n",
       " 456  1780          Capitals of the Commonwealth of Virginia.  \n",
       " 457  1861  Capital of the rival pro-Union government of t...  \n",
       " 458  1863            Capitals of the State of West Virginia.  \n",
       " 459  1870            Capitals of the State of West Virginia.  \n",
       " 460  1875            Capitals of the State of West Virginia.  \n",
       " 461  1885            Capitals of the State of West Virginia.  \n",
       " 462  1788  Capital of the Territory Northwest of the Rive...  \n",
       " 463  1800               Capital of the Territory of Indiana.  \n",
       " 464  1809              Capital of the Territory of Illinois.  \n",
       " 465  1818              Capital of the Territory of Michigan.  \n",
       " 466  1836            Capitals of the Territory of Wisconsin.  \n",
       " 467  1837            Capitals of the Territory of Wisconsin.  \n",
       " 468  1838            Capitals of the Territory of Wisconsin.  \n",
       " 469  1848                 Capital of the State of Wisconsin.  \n",
       " 470  1863                 Capital of the Territory of Idaho.  \n",
       " 471  1864                Capital of the Territory of Dakota.  \n",
       " 472  1869               Capital of the Territory of Wyoming.  \n",
       " 473  1890                   Capital of the State of Wyoming.  \n",
       " \n",
       " [474 rows x 4 columns],\n",
       "                             Links to related articles  \\\n",
       " 0   vteCapitals of the United States by jurisdicti...   \n",
       " 1    vteCapitals of the United States by jurisdiction   \n",
       " 2   Nation: US Washington States: AL Montgomery AK...   \n",
       " 3                vteUnited States state-related lists   \n",
       " 4   List of states and territories of the United S...   \n",
       " 5                                        Demographics   \n",
       " 6                                             Economy   \n",
       " 7                                         Environment   \n",
       " 8                                           Geography   \n",
       " 9                                          Government   \n",
       " 10                                             Health   \n",
       " 11                                            History   \n",
       " 12                                                Law   \n",
       " 13                                      Miscellaneous   \n",
       " 14                         Category  Commons  Portals   \n",
       " 15    vteLocation of the capital of the United States   \n",
       " 16                                 Temporary capitals   \n",
       " 17                                  Permanent capital   \n",
       " \n",
       "                           Links to related articles.1  \n",
       " 0   vteCapitals of the United States by jurisdicti...  \n",
       " 1    vteCapitals of the United States by jurisdiction  \n",
       " 2   Nation: US Washington States: AL Montgomery AK...  \n",
       " 3                vteUnited States state-related lists  \n",
       " 4   List of states and territories of the United S...  \n",
       " 5   Population African American Amish Asian Birth ...  \n",
       " 6   Billionaires Budgets Companies Credit ratings ...  \n",
       " 7   Botanical gardens Carbon dioxide emissions Par...  \n",
       " 8   Area Bays Beaches Coastline Elevation Extreme ...  \n",
       " 9   Agriculture commissioners Attorneys general Ca...  \n",
       " 10  Fertility rates Hospitals Human Development In...  \n",
       " 11  Date of statehood Name etymologies Historical ...  \n",
       " 12  Abortion Age of consent Alcohol Dry communitie...  \n",
       " 13  Abbreviations Airports Bus transit systems Cas...  \n",
       " 14                         Category  Commons  Portals  \n",
       " 15    vteLocation of the capital of the United States  \n",
       " 16  Philadelphia (1776; 1777; 1778–1783; 1791–1800...  \n",
       " 17                      Washington, D.C. (since 1800)  ,\n",
       "     vteCapitals of the United States by jurisdiction  \\\n",
       " 0  Nation: US Washington States: AL Montgomery AK...   \n",
       " \n",
       "   vteCapitals of the United States by jurisdiction.1  \n",
       " 0  Nation: US Washington States: AL Montgomery AK...  ,\n",
       "                  vteUnited States state-related lists  \\\n",
       " 0   List of states and territories of the United S...   \n",
       " 1                                        Demographics   \n",
       " 2                                             Economy   \n",
       " 3                                         Environment   \n",
       " 4                                           Geography   \n",
       " 5                                          Government   \n",
       " 6                                              Health   \n",
       " 7                                             History   \n",
       " 8                                                 Law   \n",
       " 9                                       Miscellaneous   \n",
       " 10                         Category  Commons  Portals   \n",
       " \n",
       "                vteUnited States state-related lists.1  \n",
       " 0   List of states and territories of the United S...  \n",
       " 1   Population African American Amish Asian Birth ...  \n",
       " 2   Billionaires Budgets Companies Credit ratings ...  \n",
       " 3   Botanical gardens Carbon dioxide emissions Par...  \n",
       " 4   Area Bays Beaches Coastline Elevation Extreme ...  \n",
       " 5   Agriculture commissioners Attorneys general Ca...  \n",
       " 6   Fertility rates Hospitals Human Development In...  \n",
       " 7   Date of statehood Name etymologies Historical ...  \n",
       " 8   Abortion Age of consent Alcohol Dry communitie...  \n",
       " 9   Abbreviations Airports Bus transit systems Cas...  \n",
       " 10                         Category  Commons  Portals  ,\n",
       "   vteLocation of the capital of the United States  \\\n",
       " 0                              Temporary capitals   \n",
       " 1                               Permanent capital   \n",
       " \n",
       "    vteLocation of the capital of the United States.1  \n",
       " 0  Philadelphia (1776; 1777; 1778–1783; 1791–1800...  \n",
       " 1                      Washington, D.C. (since 1800)  ]"
      ]
     },
     "execution_count": 3,
     "metadata": {},
     "output_type": "execute_result"
    }
   ],
   "source": [
    "tables = pd.read_html(url)\n",
    "tables"
   ]
  },
  {
   "cell_type": "markdown",
   "metadata": {
    "slideshow": {
     "slide_type": "subslide"
    }
   },
   "source": [
    "What we get in return is a list of dataframes for any tabular data that Pandas found."
   ]
  },
  {
   "cell_type": "code",
   "execution_count": 4,
   "metadata": {
    "slideshow": {
     "slide_type": "fragment"
    }
   },
   "outputs": [
    {
     "data": {
      "text/plain": [
       "list"
      ]
     },
     "execution_count": 4,
     "metadata": {},
     "output_type": "execute_result"
    }
   ],
   "source": [
    "type(tables)"
   ]
  },
  {
   "cell_type": "markdown",
   "metadata": {
    "slideshow": {
     "slide_type": "subslide"
    }
   },
   "source": [
    "We can slice off any of those dataframes that we want using normal indexing."
   ]
  },
  {
   "cell_type": "code",
   "execution_count": null,
   "metadata": {
    "slideshow": {
     "slide_type": "fragment"
    }
   },
   "outputs": [],
   "source": [
    "df = tables[0]\n",
    "df.columns = ['State', 'Abr.', 'State-hood Rank', 'Capital', \n",
    "              'Capital Since', 'Area (sq-mi)', 'Municipal Population', 'Metropolitan', \n",
    "              'Metropolitan Population', 'Population Rank', 'Notes']\n",
    "df.head()"
   ]
  },
  {
   "cell_type": "markdown",
   "metadata": {
    "slideshow": {
     "slide_type": "subslide"
    }
   },
   "source": [
    "Cleanup of extra rows"
   ]
  },
  {
   "cell_type": "code",
   "execution_count": null,
   "metadata": {
    "slideshow": {
     "slide_type": "fragment"
    }
   },
   "outputs": [],
   "source": [
    "df = df.iloc[2:]\n",
    "df.head()"
   ]
  },
  {
   "cell_type": "markdown",
   "metadata": {
    "slideshow": {
     "slide_type": "subslide"
    }
   },
   "source": [
    "Set the index to the `State` column"
   ]
  },
  {
   "cell_type": "code",
   "execution_count": null,
   "metadata": {
    "slideshow": {
     "slide_type": "fragment"
    }
   },
   "outputs": [],
   "source": [
    "df.set_index('State', inplace=True)\n",
    "df.head()"
   ]
  },
  {
   "cell_type": "code",
   "execution_count": null,
   "metadata": {
    "slideshow": {
     "slide_type": "subslide"
    }
   },
   "outputs": [],
   "source": [
    "df.loc['Alabama']"
   ]
  },
  {
   "cell_type": "markdown",
   "metadata": {
    "slideshow": {
     "slide_type": "slide"
    }
   },
   "source": [
    "## DataFrames as HTML"
   ]
  },
  {
   "cell_type": "markdown",
   "metadata": {
    "slideshow": {
     "slide_type": "subslide"
    }
   },
   "source": [
    "Pandas also had a `to_html` method that we can use to generate HTML tables from DataFrames."
   ]
  },
  {
   "cell_type": "code",
   "execution_count": null,
   "metadata": {
    "slideshow": {
     "slide_type": "fragment"
    }
   },
   "outputs": [],
   "source": [
    "html_table = df.to_html()\n",
    "html_table"
   ]
  },
  {
   "cell_type": "markdown",
   "metadata": {
    "slideshow": {
     "slide_type": "subslide"
    }
   },
   "source": [
    "You may have to strip unwanted newlines to clean up the table."
   ]
  },
  {
   "cell_type": "code",
   "execution_count": null,
   "metadata": {
    "slideshow": {
     "slide_type": "fragment"
    }
   },
   "outputs": [],
   "source": [
    "html_table.replace('\\n', '')"
   ]
  },
  {
   "cell_type": "markdown",
   "metadata": {
    "slideshow": {
     "slide_type": "subslide"
    }
   },
   "source": [
    "You can also save the table directly to a file."
   ]
  },
  {
   "cell_type": "code",
   "execution_count": null,
   "metadata": {
    "slideshow": {
     "slide_type": "fragment"
    }
   },
   "outputs": [],
   "source": [
    "df.to_html('table.html')"
   ]
  },
  {
   "cell_type": "code",
   "execution_count": null,
   "metadata": {
    "slideshow": {
     "slide_type": "fragment"
    }
   },
   "outputs": [],
   "source": [
    "# OSX Users can run this to open the file in a browser, \n",
    "# or you can manually find the file and open it in the browser\n",
    "!open table.html"
   ]
  },
  {
   "cell_type": "code",
   "execution_count": null,
   "metadata": {},
   "outputs": [],
   "source": []
  }
 ],
 "metadata": {
  "kernelspec": {
   "display_name": "Python 3",
   "language": "python",
   "name": "python3"
  },
  "language_info": {
   "codemirror_mode": {
    "name": "ipython",
    "version": 3
   },
   "file_extension": ".py",
   "mimetype": "text/x-python",
   "name": "python",
   "nbconvert_exporter": "python",
   "pygments_lexer": "ipython3",
   "version": "3.7.3"
  },
  "varInspector": {
   "cols": {
    "lenName": 16,
    "lenType": 16,
    "lenVar": 40
   },
   "kernels_config": {
    "python": {
     "delete_cmd_postfix": "",
     "delete_cmd_prefix": "del ",
     "library": "var_list.py",
     "varRefreshCmd": "print(var_dic_list())"
    },
    "r": {
     "delete_cmd_postfix": ") ",
     "delete_cmd_prefix": "rm(",
     "library": "var_list.r",
     "varRefreshCmd": "cat(var_dic_list()) "
    }
   },
   "types_to_exclude": [
    "module",
    "function",
    "builtin_function_or_method",
    "instance",
    "_Feature"
   ],
   "window_display": false
  }
 },
 "nbformat": 4,
 "nbformat_minor": 2
}
