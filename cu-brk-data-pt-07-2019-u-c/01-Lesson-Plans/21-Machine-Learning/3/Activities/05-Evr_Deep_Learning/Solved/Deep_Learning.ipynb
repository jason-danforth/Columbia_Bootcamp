{
 "cells": [
  {
   "cell_type": "code",
   "execution_count": 22,
   "metadata": {},
   "outputs": [],
   "source": [
    "# Set the seed value for the notebook so the results are reproducible\n",
    "from numpy.random import seed\n",
    "seed(1)"
   ]
  },
  {
   "cell_type": "code",
   "execution_count": 23,
   "metadata": {},
   "outputs": [],
   "source": [
    "%matplotlib inline\n",
    "import matplotlib.pyplot as plt\n",
    "import numpy as np\n",
    "import sklearn\n",
    "import sklearn.datasets"
   ]
  },
  {
   "cell_type": "code",
   "execution_count": 45,
   "metadata": {},
   "outputs": [],
   "source": [
    "# Create Data\n",
    "X, y = sklearn.datasets.make_circles(noise=0.1, factor=.2, random_state=1)"
   ]
  },
  {
   "cell_type": "code",
   "execution_count": 46,
   "metadata": {},
   "outputs": [
    {
     "data": {
      "text/plain": [
       "<matplotlib.collections.PathCollection at 0x26b4b3b1630>"
      ]
     },
     "execution_count": 46,
     "metadata": {},
     "output_type": "execute_result"
    },
    {
     "data": {
      "image/png": "[encoded data removed]",
      "text/plain": [
       "<Figure size 432x288 with 1 Axes>"
      ]
     },
     "metadata": {
      "needs_background": "light"
     },
     "output_type": "display_data"
    }
   ],
   "source": [
    "# Visualize Data\n",
    "plt.scatter(X[:, 0], X[:, 1], c=y)"
   ]
  },
  {
   "cell_type": "code",
   "execution_count": 47,
   "metadata": {
    "nbgrader": {
     "grade": false,
     "grade_id": "cell-25fb99ba413a3271",
     "locked": false,
     "schema_version": 1,
     "solution": true
    }
   },
   "outputs": [],
   "source": [
    "# Use train_test_split to create training and testing data\n",
    "from sklearn.model_selection import train_test_split\n",
    "\n",
    "X_train, X_test, y_train, y_test = train_test_split(X, y, random_state=1)"
   ]
  },
  {
   "cell_type": "code",
   "execution_count": 48,
   "metadata": {
    "nbgrader": {
     "grade": false,
     "grade_id": "cell-7e1de5d9b7942f68",
     "locked": false,
     "schema_version": 1,
     "solution": true
    }
   },
   "outputs": [],
   "source": [
    "from sklearn.preprocessing import StandardScaler\n",
    "\n",
    "# Create a StandardScater model and fit it to the training data\n",
    "X_scaler = StandardScaler().fit(X_train)"
   ]
  },
  {
   "cell_type": "code",
   "execution_count": 49,
   "metadata": {
    "nbgrader": {
     "grade": false,
     "grade_id": "cell-9532e12246e485d5",
     "locked": false,
     "schema_version": 1,
     "solution": true
    }
   },
   "outputs": [],
   "source": [
    "# Transform the training and testing data using the X_scaler\n",
    "\n",
    "X_train_scaled = X_scaler.transform(X_train)\n",
    "X_test_scaled = X_scaler.transform(X_test)"
   ]
  },
  {
   "cell_type": "code",
   "execution_count": 50,
   "metadata": {},
   "outputs": [],
   "source": [
    "from tensorflow.keras.utils import to_categorical"
   ]
  },
  {
   "cell_type": "code",
   "execution_count": 51,
   "metadata": {},
   "outputs": [],
   "source": [
    "# One-hot encoding\n",
    "y_train_categorical = to_categorical(y_train)\n",
    "y_test_categorical = to_categorical(y_test)"
   ]
  },
  {
   "cell_type": "code",
   "execution_count": 52,
   "metadata": {
    "nbgrader": {
     "grade": false,
     "grade_id": "cell-ec399a95e133cb58",
     "locked": false,
     "schema_version": 1,
     "solution": true
    }
   },
   "outputs": [],
   "source": [
    "# first, create a normal neural network with 2 inputs, 6 hidden nodes, and 2 outputs\n",
    "from tensorflow.keras.models import Sequential\n",
    "from tensorflow.keras.layers import Dense\n",
    "\n",
    "model = Sequential()\n",
    "model.add(Dense(units=6, activation='relu', input_dim=2))\n",
    "model.add(Dense(units=2, activation='softmax'))"
   ]
  },
  {
   "cell_type": "code",
   "execution_count": 53,
   "metadata": {},
   "outputs": [
    {
     "name": "stdout",
     "output_type": "stream",
     "text": [
      "Model: \"sequential_5\"\n",
      "_________________________________________________________________\n",
      "Layer (type)                 Output Shape              Param #   \n",
      "=================================================================\n",
      "dense_13 (Dense)             (None, 6)                 18        \n",
      "_________________________________________________________________\n",
      "dense_14 (Dense)             (None, 2)                 14        \n",
      "=================================================================\n",
      "Total params: 32\n",
      "Trainable params: 32\n",
      "Non-trainable params: 0\n",
      "_________________________________________________________________\n"
     ]
    }
   ],
   "source": [
    "model.summary()"
   ]
  },
  {
   "cell_type": "code",
   "execution_count": 54,
   "metadata": {},
   "outputs": [],
   "source": [
    "# Compile the model\n",
    "model.compile(optimizer='adam',\n",
    "              loss='categorical_crossentropy',\n",
    "              metrics=['accuracy'])"
   ]
  },
  {
   "cell_type": "code",
   "execution_count": 55,
   "metadata": {
    "nbgrader": {
     "grade": false,
     "grade_id": "cell-5cf2fbdbea0ed50b",
     "locked": false,
     "schema_version": 1,
     "solution": true
    }
   },
   "outputs": [
    {
     "name": "stdout",
     "output_type": "stream",
     "text": [
      "Train on 75 samples\n",
      "Epoch 1/100\n",
      "75/75 - 0s - loss: 0.8984 - accuracy: 0.4533\n",
      "Epoch 2/100\n",
      "75/75 - 0s - loss: 0.8904 - accuracy: 0.4533\n",
      "Epoch 3/100\n",
      "75/75 - 0s - loss: 0.8846 - accuracy: 0.4400\n",
      "Epoch 4/100\n",
      "75/75 - 0s - loss: 0.8778 - accuracy: 0.4400\n",
      "Epoch 5/100\n",
      "75/75 - 0s - loss: 0.8711 - accuracy: 0.4400\n",
      "Epoch 6/100\n",
      "75/75 - 0s - loss: 0.8654 - accuracy: 0.4533\n",
      "Epoch 7/100\n",
      "75/75 - 0s - loss: 0.8593 - accuracy: 0.4400\n",
      "Epoch 8/100\n",
      "75/75 - 0s - loss: 0.8537 - accuracy: 0.4133\n",
      "Epoch 9/100\n",
      "75/75 - 0s - loss: 0.8478 - accuracy: 0.4133\n",
      "Epoch 10/100\n",
      "75/75 - 0s - loss: 0.8426 - accuracy: 0.4000\n",
      "Epoch 11/100\n",
      "75/75 - 0s - loss: 0.8375 - accuracy: 0.3867\n",
      "Epoch 12/100\n",
      "75/75 - 0s - loss: 0.8318 - accuracy: 0.3733\n",
      "Epoch 13/100\n",
      "75/75 - 0s - loss: 0.8267 - accuracy: 0.3467\n",
      "Epoch 14/100\n",
      "75/75 - 0s - loss: 0.8218 - accuracy: 0.3467\n",
      "Epoch 15/100\n",
      "75/75 - 0s - loss: 0.8167 - accuracy: 0.3067\n",
      "Epoch 16/100\n",
      "75/75 - 0s - loss: 0.8121 - accuracy: 0.3200\n",
      "Epoch 17/100\n",
      "75/75 - 0s - loss: 0.8076 - accuracy: 0.3200\n",
      "Epoch 18/100\n",
      "75/75 - 0s - loss: 0.8028 - accuracy: 0.3200\n",
      "Epoch 19/100\n",
      "75/75 - 0s - loss: 0.7989 - accuracy: 0.3200\n",
      "Epoch 20/100\n",
      "75/75 - 0s - loss: 0.7945 - accuracy: 0.3067\n",
      "Epoch 21/100\n",
      "75/75 - 0s - loss: 0.7903 - accuracy: 0.3067\n",
      "Epoch 22/100\n",
      "75/75 - 0s - loss: 0.7865 - accuracy: 0.2933\n",
      "Epoch 23/100\n",
      "75/75 - 0s - loss: 0.7824 - accuracy: 0.2800\n",
      "Epoch 24/100\n",
      "75/75 - 0s - loss: 0.7786 - accuracy: 0.2667\n",
      "Epoch 25/100\n",
      "75/75 - 0s - loss: 0.7749 - accuracy: 0.2667\n",
      "Epoch 26/100\n",
      "75/75 - 0s - loss: 0.7714 - accuracy: 0.2400\n",
      "Epoch 27/100\n",
      "75/75 - 0s - loss: 0.7678 - accuracy: 0.2400\n",
      "Epoch 28/100\n",
      "75/75 - 0s - loss: 0.7642 - accuracy: 0.2400\n",
      "Epoch 29/100\n",
      "75/75 - 0s - loss: 0.7612 - accuracy: 0.2533\n",
      "Epoch 30/100\n",
      "75/75 - 0s - loss: 0.7580 - accuracy: 0.2400\n",
      "Epoch 31/100\n",
      "75/75 - 0s - loss: 0.7547 - accuracy: 0.2400\n",
      "Epoch 32/100\n",
      "75/75 - 0s - loss: 0.7518 - accuracy: 0.2400\n",
      "Epoch 33/100\n",
      "75/75 - 0s - loss: 0.7490 - accuracy: 0.2267\n",
      "Epoch 34/100\n",
      "75/75 - 0s - loss: 0.7461 - accuracy: 0.2400\n",
      "Epoch 35/100\n",
      "75/75 - 0s - loss: 0.7433 - accuracy: 0.2400\n",
      "Epoch 36/100\n",
      "75/75 - 0s - loss: 0.7408 - accuracy: 0.2267\n",
      "Epoch 37/100\n",
      "75/75 - 0s - loss: 0.7379 - accuracy: 0.2133\n",
      "Epoch 38/100\n",
      "75/75 - 0s - loss: 0.7355 - accuracy: 0.2000\n",
      "Epoch 39/100\n",
      "75/75 - 0s - loss: 0.7328 - accuracy: 0.1867\n",
      "Epoch 40/100\n",
      "75/75 - 0s - loss: 0.7302 - accuracy: 0.1867\n",
      "Epoch 41/100\n",
      "75/75 - 0s - loss: 0.7279 - accuracy: 0.1867\n",
      "Epoch 42/100\n",
      "75/75 - 0s - loss: 0.7253 - accuracy: 0.1867\n",
      "Epoch 43/100\n",
      "75/75 - 0s - loss: 0.7227 - accuracy: 0.1867\n",
      "Epoch 44/100\n",
      "75/75 - 0s - loss: 0.7203 - accuracy: 0.1867\n",
      "Epoch 45/100\n",
      "75/75 - 0s - loss: 0.7181 - accuracy: 0.1867\n",
      "Epoch 46/100\n",
      "75/75 - 0s - loss: 0.7157 - accuracy: 0.1867\n",
      "Epoch 47/100\n",
      "75/75 - 0s - loss: 0.7134 - accuracy: 0.1867\n",
      "Epoch 48/100\n",
      "75/75 - 0s - loss: 0.7110 - accuracy: 0.2000\n",
      "Epoch 49/100\n",
      "75/75 - 0s - loss: 0.7087 - accuracy: 0.2133\n",
      "Epoch 50/100\n",
      "75/75 - 0s - loss: 0.7063 - accuracy: 0.2133\n",
      "Epoch 51/100\n",
      "75/75 - 0s - loss: 0.7041 - accuracy: 0.2133\n",
      "Epoch 52/100\n",
      "75/75 - 0s - loss: 0.7018 - accuracy: 0.2133\n",
      "Epoch 53/100\n",
      "75/75 - 0s - loss: 0.6995 - accuracy: 0.2133\n",
      "Epoch 54/100\n",
      "75/75 - 0s - loss: 0.6974 - accuracy: 0.2267\n",
      "Epoch 55/100\n",
      "75/75 - 0s - loss: 0.6951 - accuracy: 0.2267\n",
      "Epoch 56/100\n",
      "75/75 - 0s - loss: 0.6930 - accuracy: 0.2267\n",
      "Epoch 57/100\n",
      "75/75 - 0s - loss: 0.6906 - accuracy: 0.2267\n",
      "Epoch 58/100\n",
      "75/75 - 0s - loss: 0.6885 - accuracy: 0.2267\n",
      "Epoch 59/100\n",
      "75/75 - 0s - loss: 0.6864 - accuracy: 0.2267\n",
      "Epoch 60/100\n",
      "75/75 - 0s - loss: 0.6842 - accuracy: 0.2400\n",
      "Epoch 61/100\n",
      "75/75 - 0s - loss: 0.6823 - accuracy: 0.2400\n",
      "Epoch 62/100\n",
      "75/75 - 0s - loss: 0.6802 - accuracy: 0.2533\n",
      "Epoch 63/100\n",
      "75/75 - 0s - loss: 0.6782 - accuracy: 0.2533\n",
      "Epoch 64/100\n",
      "75/75 - 0s - loss: 0.6762 - accuracy: 0.2667\n",
      "Epoch 65/100\n",
      "75/75 - 0s - loss: 0.6743 - accuracy: 0.2667\n",
      "Epoch 66/100\n",
      "75/75 - 0s - loss: 0.6723 - accuracy: 0.2667\n",
      "Epoch 67/100\n",
      "75/75 - 0s - loss: 0.6705 - accuracy: 0.2800\n",
      "Epoch 68/100\n",
      "75/75 - 0s - loss: 0.6686 - accuracy: 0.2800\n",
      "Epoch 69/100\n",
      "75/75 - 0s - loss: 0.6667 - accuracy: 0.2800\n",
      "Epoch 70/100\n",
      "75/75 - 0s - loss: 0.6648 - accuracy: 0.2800\n",
      "Epoch 71/100\n",
      "75/75 - 0s - loss: 0.6630 - accuracy: 0.2800\n",
      "Epoch 72/100\n",
      "75/75 - 0s - loss: 0.6612 - accuracy: 0.2800\n",
      "Epoch 73/100\n",
      "75/75 - 0s - loss: 0.6594 - accuracy: 0.2933\n",
      "Epoch 74/100\n",
      "75/75 - 0s - loss: 0.6577 - accuracy: 0.3067\n",
      "Epoch 75/100\n",
      "75/75 - 0s - loss: 0.6559 - accuracy: 0.3200\n",
      "Epoch 76/100\n",
      "75/75 - 0s - loss: 0.6541 - accuracy: 0.3200\n",
      "Epoch 77/100\n",
      "75/75 - 0s - loss: 0.6524 - accuracy: 0.3200\n",
      "Epoch 78/100\n",
      "75/75 - 0s - loss: 0.6507 - accuracy: 0.3200\n",
      "Epoch 79/100\n",
      "75/75 - 0s - loss: 0.6490 - accuracy: 0.3200\n",
      "Epoch 80/100\n",
      "75/75 - 0s - loss: 0.6474 - accuracy: 0.3467\n",
      "Epoch 81/100\n",
      "75/75 - 0s - loss: 0.6457 - accuracy: 0.3467\n",
      "Epoch 82/100\n",
      "75/75 - 0s - loss: 0.6439 - accuracy: 0.3467\n",
      "Epoch 83/100\n",
      "75/75 - 0s - loss: 0.6423 - accuracy: 0.3467\n",
      "Epoch 84/100\n",
      "75/75 - 0s - loss: 0.6406 - accuracy: 0.3467\n",
      "Epoch 85/100\n",
      "75/75 - 0s - loss: 0.6389 - accuracy: 0.3467\n",
      "Epoch 86/100\n",
      "75/75 - 0s - loss: 0.6374 - accuracy: 0.3467\n",
      "Epoch 87/100\n",
      "75/75 - 0s - loss: 0.6358 - accuracy: 0.3467\n",
      "Epoch 88/100\n",
      "75/75 - 0s - loss: 0.6342 - accuracy: 0.3600\n",
      "Epoch 89/100\n",
      "75/75 - 0s - loss: 0.6326 - accuracy: 0.3733\n",
      "Epoch 90/100\n",
      "75/75 - 0s - loss: 0.6310 - accuracy: 0.3867\n",
      "Epoch 91/100\n",
      "75/75 - 0s - loss: 0.6295 - accuracy: 0.3867\n",
      "Epoch 92/100\n",
      "75/75 - 0s - loss: 0.6278 - accuracy: 0.3867\n",
      "Epoch 93/100\n",
      "75/75 - 0s - loss: 0.6264 - accuracy: 0.4000\n",
      "Epoch 94/100\n",
      "75/75 - 0s - loss: 0.6250 - accuracy: 0.4000\n",
      "Epoch 95/100\n",
      "75/75 - 0s - loss: 0.6233 - accuracy: 0.4000\n",
      "Epoch 96/100\n",
      "75/75 - 0s - loss: 0.6219 - accuracy: 0.4133\n",
      "Epoch 97/100\n",
      "75/75 - 0s - loss: 0.6203 - accuracy: 0.4267\n",
      "Epoch 98/100\n",
      "75/75 - 0s - loss: 0.6189 - accuracy: 0.4267\n",
      "Epoch 99/100\n",
      "75/75 - 0s - loss: 0.6174 - accuracy: 0.4267\n",
      "Epoch 100/100\n",
      "75/75 - 0s - loss: 0.6159 - accuracy: 0.4267\n"
     ]
    },
    {
     "data": {
      "text/plain": [
       "<tensorflow.python.keras.callbacks.History at 0x26b4b4ca550>"
      ]
     },
     "execution_count": 55,
     "metadata": {},
     "output_type": "execute_result"
    }
   ],
   "source": [
    "# Fit the model to the training data\n",
    "model.fit(\n",
    "    X_train_scaled,\n",
    "    y_train_categorical,\n",
    "    epochs=100,\n",
    "    shuffle=True,\n",
    "    verbose=2\n",
    ")"
   ]
  },
  {
   "cell_type": "markdown",
   "metadata": {},
   "source": [
    "# Deep Learning\n",
    "For this network, we simply add an additional hidden layer of 6 nodes"
   ]
  },
  {
   "cell_type": "code",
   "execution_count": 56,
   "metadata": {},
   "outputs": [],
   "source": [
    "deep_model = Sequential()\n",
    "deep_model.add(Dense(units=6, activation='relu', input_dim=2))\n",
    "deep_model.add(Dense(units=6, activation='relu'))\n",
    "deep_model.add(Dense(units=2, activation='softmax'))"
   ]
  },
  {
   "cell_type": "code",
   "execution_count": 57,
   "metadata": {},
   "outputs": [
    {
     "name": "stdout",
     "output_type": "stream",
     "text": [
      "Model: \"sequential_6\"\n",
      "_________________________________________________________________\n",
      "Layer (type)                 Output Shape              Param #   \n",
      "=================================================================\n",
      "dense_15 (Dense)             (None, 6)                 18        \n",
      "_________________________________________________________________\n",
      "dense_16 (Dense)             (None, 6)                 42        \n",
      "_________________________________________________________________\n",
      "dense_17 (Dense)             (None, 2)                 14        \n",
      "=================================================================\n",
      "Total params: 74\n",
      "Trainable params: 74\n",
      "Non-trainable params: 0\n",
      "_________________________________________________________________\n"
     ]
    }
   ],
   "source": [
    "deep_model.summary()"
   ]
  },
  {
   "cell_type": "code",
   "execution_count": 61,
   "metadata": {},
   "outputs": [
    {
     "name": "stdout",
     "output_type": "stream",
     "text": [
      "Train on 75 samples\n",
      "Epoch 1/100\n",
      "75/75 - 1s - loss: 0.0160 - accuracy: 1.0000\n",
      "Epoch 2/100\n",
      "75/75 - 0s - loss: 0.0159 - accuracy: 1.0000\n",
      "Epoch 3/100\n",
      "75/75 - 0s - loss: 0.0158 - accuracy: 1.0000\n",
      "Epoch 4/100\n",
      "75/75 - 0s - loss: 0.0157 - accuracy: 1.0000\n",
      "Epoch 5/100\n",
      "75/75 - 0s - loss: 0.0156 - accuracy: 1.0000\n",
      "Epoch 6/100\n",
      "75/75 - 0s - loss: 0.0155 - accuracy: 1.0000\n",
      "Epoch 7/100\n",
      "75/75 - 0s - loss: 0.0154 - accuracy: 1.0000\n",
      "Epoch 8/100\n",
      "75/75 - 0s - loss: 0.0153 - accuracy: 1.0000\n",
      "Epoch 9/100\n",
      "75/75 - 0s - loss: 0.0152 - accuracy: 1.0000\n",
      "Epoch 10/100\n",
      "75/75 - 0s - loss: 0.0151 - accuracy: 1.0000\n",
      "Epoch 11/100\n",
      "75/75 - 0s - loss: 0.0150 - accuracy: 1.0000\n",
      "Epoch 12/100\n",
      "75/75 - 0s - loss: 0.0149 - accuracy: 1.0000\n",
      "Epoch 13/100\n",
      "75/75 - 0s - loss: 0.0148 - accuracy: 1.0000\n",
      "Epoch 14/100\n",
      "75/75 - 0s - loss: 0.0147 - accuracy: 1.0000\n",
      "Epoch 15/100\n",
      "75/75 - 0s - loss: 0.0146 - accuracy: 1.0000\n",
      "Epoch 16/100\n",
      "75/75 - 0s - loss: 0.0145 - accuracy: 1.0000\n",
      "Epoch 17/100\n",
      "75/75 - 0s - loss: 0.0144 - accuracy: 1.0000\n",
      "Epoch 18/100\n",
      "75/75 - 0s - loss: 0.0144 - accuracy: 1.0000\n",
      "Epoch 19/100\n",
      "75/75 - 0s - loss: 0.0143 - accuracy: 1.0000\n",
      "Epoch 20/100\n",
      "75/75 - 0s - loss: 0.0142 - accuracy: 1.0000\n",
      "Epoch 21/100\n",
      "75/75 - 0s - loss: 0.0141 - accuracy: 1.0000\n",
      "Epoch 22/100\n",
      "75/75 - 0s - loss: 0.0140 - accuracy: 1.0000\n",
      "Epoch 23/100\n",
      "75/75 - 0s - loss: 0.0139 - accuracy: 1.0000\n",
      "Epoch 24/100\n",
      "75/75 - 0s - loss: 0.0138 - accuracy: 1.0000\n",
      "Epoch 25/100\n",
      "75/75 - 0s - loss: 0.0138 - accuracy: 1.0000\n",
      "Epoch 26/100\n",
      "75/75 - 0s - loss: 0.0137 - accuracy: 1.0000\n",
      "Epoch 27/100\n",
      "75/75 - 0s - loss: 0.0136 - accuracy: 1.0000\n",
      "Epoch 28/100\n",
      "75/75 - 0s - loss: 0.0135 - accuracy: 1.0000\n",
      "Epoch 29/100\n",
      "75/75 - 0s - loss: 0.0134 - accuracy: 1.0000\n",
      "Epoch 30/100\n",
      "75/75 - 0s - loss: 0.0133 - accuracy: 1.0000\n",
      "Epoch 31/100\n",
      "75/75 - 0s - loss: 0.0133 - accuracy: 1.0000\n",
      "Epoch 32/100\n",
      "75/75 - 0s - loss: 0.0132 - accuracy: 1.0000\n",
      "Epoch 33/100\n",
      "75/75 - 0s - loss: 0.0131 - accuracy: 1.0000\n",
      "Epoch 34/100\n",
      "75/75 - 0s - loss: 0.0130 - accuracy: 1.0000\n",
      "Epoch 35/100\n",
      "75/75 - 0s - loss: 0.0129 - accuracy: 1.0000\n",
      "Epoch 36/100\n",
      "75/75 - 0s - loss: 0.0128 - accuracy: 1.0000\n",
      "Epoch 37/100\n",
      "75/75 - 0s - loss: 0.0127 - accuracy: 1.0000\n",
      "Epoch 38/100\n",
      "75/75 - 0s - loss: 0.0126 - accuracy: 1.0000\n",
      "Epoch 39/100\n",
      "75/75 - 0s - loss: 0.0125 - accuracy: 1.0000\n",
      "Epoch 40/100\n",
      "75/75 - 0s - loss: 0.0123 - accuracy: 1.0000\n",
      "Epoch 41/100\n",
      "75/75 - 0s - loss: 0.0122 - accuracy: 1.0000\n",
      "Epoch 42/100\n",
      "75/75 - 0s - loss: 0.0121 - accuracy: 1.0000\n",
      "Epoch 43/100\n",
      "75/75 - 0s - loss: 0.0120 - accuracy: 1.0000\n",
      "Epoch 44/100\n",
      "75/75 - 0s - loss: 0.0119 - accuracy: 1.0000\n",
      "Epoch 45/100\n",
      "75/75 - 0s - loss: 0.0118 - accuracy: 1.0000\n",
      "Epoch 46/100\n",
      "75/75 - 0s - loss: 0.0117 - accuracy: 1.0000\n",
      "Epoch 47/100\n",
      "75/75 - 0s - loss: 0.0116 - accuracy: 1.0000\n",
      "Epoch 48/100\n",
      "75/75 - 0s - loss: 0.0115 - accuracy: 1.0000\n",
      "Epoch 49/100\n",
      "75/75 - 0s - loss: 0.0114 - accuracy: 1.0000\n",
      "Epoch 50/100\n",
      "75/75 - 0s - loss: 0.0112 - accuracy: 1.0000\n",
      "Epoch 51/100\n",
      "75/75 - 0s - loss: 0.0111 - accuracy: 1.0000\n",
      "Epoch 52/100\n",
      "75/75 - 0s - loss: 0.0110 - accuracy: 1.0000\n",
      "Epoch 53/100\n",
      "75/75 - 0s - loss: 0.0109 - accuracy: 1.0000\n",
      "Epoch 54/100\n",
      "75/75 - 0s - loss: 0.0108 - accuracy: 1.0000\n",
      "Epoch 55/100\n",
      "75/75 - 0s - loss: 0.0107 - accuracy: 1.0000\n",
      "Epoch 56/100\n",
      "75/75 - 0s - loss: 0.0106 - accuracy: 1.0000\n",
      "Epoch 57/100\n",
      "75/75 - 0s - loss: 0.0104 - accuracy: 1.0000\n",
      "Epoch 58/100\n",
      "75/75 - 0s - loss: 0.0103 - accuracy: 1.0000\n",
      "Epoch 59/100\n",
      "75/75 - 0s - loss: 0.0102 - accuracy: 1.0000\n",
      "Epoch 60/100\n",
      "75/75 - 0s - loss: 0.0101 - accuracy: 1.0000\n",
      "Epoch 61/100\n",
      "75/75 - 0s - loss: 0.0100 - accuracy: 1.0000\n",
      "Epoch 62/100\n",
      "75/75 - 0s - loss: 0.0099 - accuracy: 1.0000\n",
      "Epoch 63/100\n",
      "75/75 - 0s - loss: 0.0098 - accuracy: 1.0000\n",
      "Epoch 64/100\n",
      "75/75 - 0s - loss: 0.0097 - accuracy: 1.0000\n",
      "Epoch 65/100\n",
      "75/75 - 0s - loss: 0.0095 - accuracy: 1.0000\n",
      "Epoch 66/100\n",
      "75/75 - 0s - loss: 0.0094 - accuracy: 1.0000\n",
      "Epoch 67/100\n",
      "75/75 - 0s - loss: 0.0093 - accuracy: 1.0000\n",
      "Epoch 68/100\n",
      "75/75 - 0s - loss: 0.0092 - accuracy: 1.0000\n",
      "Epoch 69/100\n",
      "75/75 - 0s - loss: 0.0091 - accuracy: 1.0000\n",
      "Epoch 70/100\n",
      "75/75 - 0s - loss: 0.0090 - accuracy: 1.0000\n",
      "Epoch 71/100\n",
      "75/75 - 0s - loss: 0.0089 - accuracy: 1.0000\n",
      "Epoch 72/100\n",
      "75/75 - 0s - loss: 0.0088 - accuracy: 1.0000\n",
      "Epoch 73/100\n",
      "75/75 - 0s - loss: 0.0087 - accuracy: 1.0000\n",
      "Epoch 74/100\n",
      "75/75 - 0s - loss: 0.0086 - accuracy: 1.0000\n",
      "Epoch 75/100\n",
      "75/75 - 0s - loss: 0.0085 - accuracy: 1.0000\n",
      "Epoch 76/100\n",
      "75/75 - 0s - loss: 0.0084 - accuracy: 1.0000\n",
      "Epoch 77/100\n",
      "75/75 - 0s - loss: 0.0083 - accuracy: 1.0000\n",
      "Epoch 78/100\n",
      "75/75 - 0s - loss: 0.0082 - accuracy: 1.0000\n",
      "Epoch 79/100\n",
      "75/75 - 0s - loss: 0.0081 - accuracy: 1.0000\n",
      "Epoch 80/100\n",
      "75/75 - 0s - loss: 0.0080 - accuracy: 1.0000\n",
      "Epoch 81/100\n",
      "75/75 - 0s - loss: 0.0079 - accuracy: 1.0000\n",
      "Epoch 82/100\n",
      "75/75 - 0s - loss: 0.0078 - accuracy: 1.0000\n",
      "Epoch 83/100\n",
      "75/75 - 0s - loss: 0.0076 - accuracy: 1.0000\n",
      "Epoch 84/100\n",
      "75/75 - 0s - loss: 0.0075 - accuracy: 1.0000\n",
      "Epoch 85/100\n",
      "75/75 - 0s - loss: 0.0074 - accuracy: 1.0000\n",
      "Epoch 86/100\n",
      "75/75 - 0s - loss: 0.0073 - accuracy: 1.0000\n",
      "Epoch 87/100\n",
      "75/75 - 0s - loss: 0.0072 - accuracy: 1.0000\n",
      "Epoch 88/100\n",
      "75/75 - 0s - loss: 0.0071 - accuracy: 1.0000\n",
      "Epoch 89/100\n",
      "75/75 - 0s - loss: 0.0070 - accuracy: 1.0000\n",
      "Epoch 90/100\n",
      "75/75 - 0s - loss: 0.0069 - accuracy: 1.0000\n",
      "Epoch 91/100\n",
      "75/75 - 0s - loss: 0.0068 - accuracy: 1.0000\n",
      "Epoch 92/100\n",
      "75/75 - 0s - loss: 0.0067 - accuracy: 1.0000\n",
      "Epoch 93/100\n",
      "75/75 - 0s - loss: 0.0066 - accuracy: 1.0000\n",
      "Epoch 94/100\n",
      "75/75 - 0s - loss: 0.0065 - accuracy: 1.0000\n",
      "Epoch 95/100\n",
      "75/75 - 0s - loss: 0.0064 - accuracy: 1.0000\n",
      "Epoch 96/100\n",
      "75/75 - 0s - loss: 0.0063 - accuracy: 1.0000\n",
      "Epoch 97/100\n",
      "75/75 - 0s - loss: 0.0062 - accuracy: 1.0000\n",
      "Epoch 98/100\n",
      "75/75 - 0s - loss: 0.0061 - accuracy: 1.0000\n",
      "Epoch 99/100\n",
      "75/75 - 0s - loss: 0.0061 - accuracy: 1.0000\n",
      "Epoch 100/100\n",
      "75/75 - 0s - loss: 0.0060 - accuracy: 1.0000\n"
     ]
    },
    {
     "data": {
      "text/plain": [
       "<tensorflow.python.keras.callbacks.History at 0x26b4cc31e10>"
      ]
     },
     "execution_count": 61,
     "metadata": {},
     "output_type": "execute_result"
    }
   ],
   "source": [
    "deep_model.compile(optimizer='adam',\n",
    "                   loss='categorical_crossentropy',\n",
    "                   metrics=['accuracy'])\n",
    "\n",
    "deep_model.fit(\n",
    "    X_train_scaled,\n",
    "    y_train_categorical,\n",
    "    epochs=100,\n",
    "    shuffle=True,\n",
    "    verbose=2\n",
    ")"
   ]
  },
  {
   "cell_type": "markdown",
   "metadata": {},
   "source": [
    "# Compare the models below"
   ]
  },
  {
   "cell_type": "code",
   "execution_count": 62,
   "metadata": {},
   "outputs": [
    {
     "name": "stdout",
     "output_type": "stream",
     "text": [
      "25/1 - 0s - loss: 0.5906 - accuracy: 0.4400\n",
      "Normal Neural Network - Loss: 0.5906252264976501, Accuracy: 0.4399999976158142\n"
     ]
    }
   ],
   "source": [
    "model_loss, model_accuracy = model.evaluate(\n",
    "    X_test_scaled, y_test_categorical, verbose=2)\n",
    "print(\n",
    "    f\"Normal Neural Network - Loss: {model_loss}, Accuracy: {model_accuracy}\")"
   ]
  },
  {
   "cell_type": "code",
   "execution_count": 63,
   "metadata": {},
   "outputs": [
    {
     "name": "stdout",
     "output_type": "stream",
     "text": [
      "25/1 - 0s - loss: 0.0110 - accuracy: 1.0000\n",
      "Deep Neural Network - Loss: 0.011027469299733639, Accuracy: 1.0\n"
     ]
    }
   ],
   "source": [
    "model_loss, model_accuracy = deep_model.evaluate(\n",
    "    X_test_scaled, y_test_categorical, verbose=2)\n",
    "print(f\"Deep Neural Network - Loss: {model_loss}, Accuracy: {model_accuracy}\")"
   ]
  },
  {
   "cell_type": "markdown",
   "metadata": {},
   "source": [
    "# In a nutshell..."
   ]
  },
  {
   "cell_type": "markdown",
   "metadata": {},
   "source": [
    "![stack more layers](../Images/stack-more-layers.jpg)"
   ]
  },
  {
   "cell_type": "code",
   "execution_count": null,
   "metadata": {},
   "outputs": [],
   "source": []
  }
 ],
 "metadata": {
  "anaconda-cloud": {},
  "kernelspec": {
   "display_name": "Python 3",
   "language": "python",
   "name": "python3"
  },
  "language_info": {
   "codemirror_mode": {
    "name": "ipython",
    "version": 3
   },
   "file_extension": ".py",
   "mimetype": "text/x-python",
   "name": "python",
   "nbconvert_exporter": "python",
   "pygments_lexer": "ipython3",
   "version": "3.7.3"
  },
  "varInspector": {
   "cols": {
    "lenName": 16,
    "lenType": 16,
    "lenVar": 40
   },
   "kernels_config": {
    "python": {
     "delete_cmd_postfix": "",
     "delete_cmd_prefix": "del ",
     "library": "var_list.py",
     "varRefreshCmd": "print(var_dic_list())"
    },
    "r": {
     "delete_cmd_postfix": ") ",
     "delete_cmd_prefix": "rm(",
     "library": "var_list.r",
     "varRefreshCmd": "cat(var_dic_list()) "
    }
   },
   "types_to_exclude": [
    "module",
    "function",
    "builtin_function_or_method",
    "instance",
    "_Feature"
   ],
   "window_display": false
  }
 },
 "nbformat": 4,
 "nbformat_minor": 2
}
