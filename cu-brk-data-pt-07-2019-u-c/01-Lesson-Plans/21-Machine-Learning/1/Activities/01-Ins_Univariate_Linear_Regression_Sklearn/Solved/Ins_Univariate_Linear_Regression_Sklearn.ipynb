{
 "cells": [
  {
   "cell_type": "code",
   "execution_count": 1,
   "metadata": {
    "nbpresent": {
     "id": "828c2e12-b1c6-4994-8f55-ce86373b6c97"
    },
    "slideshow": {
     "slide_type": "fragment"
    }
   },
   "outputs": [],
   "source": [
    "%matplotlib inline\n",
    "import matplotlib.pyplot as plt\n",
    "import numpy as np\n",
    "import pandas as pd"
   ]
  },
  {
   "cell_type": "markdown",
   "metadata": {
    "nbpresent": {
     "id": "0dc0cdcb-d8df-4a29-a0d2-a3cf6cc889ce"
    },
    "slideshow": {
     "slide_type": "slide"
    }
   },
   "source": [
    "# Linear Regression"
   ]
  },
  {
   "cell_type": "markdown",
   "metadata": {
    "nbpresent": {
     "id": "91401f60-44eb-42b2-86ea-c82b5e955ace"
    },
    "slideshow": {
     "slide_type": "subslide"
    }
   },
   "source": [
    "Linear Regression is a fundamental algorithm in machine learning"
   ]
  },
  {
   "cell_type": "markdown",
   "metadata": {
    "nbpresent": {
     "id": "966e050d-5739-4ef9-a2ae-9a4957e14f3e"
    },
    "slideshow": {
     "slide_type": "fragment"
    }
   },
   "source": [
    "It is used as a building block for other ML models"
   ]
  },
  {
   "cell_type": "markdown",
   "metadata": {
    "nbpresent": {
     "id": "7068c96d-f8f0-42bb-bdfd-dcbf9335323c"
    },
    "slideshow": {
     "slide_type": "fragment"
    }
   },
   "source": [
    "LR is easy to understand, calculate, and interpret"
   ]
  },
  {
   "cell_type": "markdown",
   "metadata": {
    "nbpresent": {
     "id": "6de4dae8-c949-4927-89a3-9741aba83e8d"
    },
    "slideshow": {
     "slide_type": "fragment"
    }
   },
   "source": [
    "LR is fast!"
   ]
  },
  {
   "cell_type": "markdown",
   "metadata": {
    "nbpresent": {
     "id": "7c23961d-86fe-4d07-bc58-6d61f03c3731"
    },
    "slideshow": {
     "slide_type": "subslide"
    }
   },
   "source": [
    "Often good enough. Don't over-engineer your solution. If your data is linear then use a linear model."
   ]
  },
  {
   "cell_type": "markdown",
   "metadata": {
    "nbpresent": {
     "id": "6d53481c-69ff-41a0-937e-4e8a39e2b2b5"
    },
    "slideshow": {
     "slide_type": "subslide"
    }
   },
   "source": [
    "What is linear data?"
   ]
  },
  {
   "cell_type": "code",
   "execution_count": 2,
   "metadata": {
    "nbpresent": {
     "id": "b0f8400f-71e1-4892-9012-88e54c053a36"
    },
    "slideshow": {
     "slide_type": "fragment"
    }
   },
   "outputs": [],
   "source": [
    "from sklearn.datasets import make_regression\n",
    "\n",
    "X, y = make_regression(n_samples=20, n_features=1, random_state=0, noise=4, bias=100.0)"
   ]
  },
  {
   "cell_type": "code",
   "execution_count": 3,
   "metadata": {
    "nbpresent": {
     "id": "fb58a52c-71e9-402d-af86-eab194cf8050"
    },
    "scrolled": true,
    "slideshow": {
     "slide_type": "subslide"
    }
   },
   "outputs": [
    {
     "data": {
      "text/plain": [
<<<<<<< HEAD
       "<matplotlib.collections.PathCollection at 0x19a54304d30>"
=======
       "<matplotlib.collections.PathCollection at 0x2037e768e10>"
>>>>>>> eb531489b8af88b035a87dfe484f63fae95d5820
      ]
     },
     "execution_count": 3,
     "metadata": {},
     "output_type": "execute_result"
    },
    {
     "data": {
<<<<<<< HEAD
      "image/png": "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\n",
=======
      "image/png": "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\n",
>>>>>>> eb531489b8af88b035a87dfe484f63fae95d5820
      "text/plain": [
       "<Figure size 432x288 with 1 Axes>"
      ]
     },
     "metadata": {
      "needs_background": "light"
     },
     "output_type": "display_data"
    }
   ],
   "source": [
    "plt.scatter(X, y)"
   ]
  },
  {
   "cell_type": "code",
   "execution_count": 16,
   "metadata": {},
   "outputs": [
    {
     "data": {
      "text/plain": [
       "array([[-0.15135721],\n",
       "       [ 0.40015721],\n",
       "       [ 0.97873798],\n",
       "       [-0.85409574],\n",
       "       [-0.97727788],\n",
       "       [ 0.3130677 ],\n",
       "       [-0.10321885],\n",
       "       [-0.20515826],\n",
       "       [ 0.33367433],\n",
       "       [ 1.49407907],\n",
       "       [ 0.95008842],\n",
       "       [ 0.12167502],\n",
       "       [ 1.45427351],\n",
       "       [ 1.86755799],\n",
       "       [ 0.14404357],\n",
       "       [ 0.4105985 ],\n",
       "       [ 0.76103773],\n",
       "       [ 2.2408932 ],\n",
       "       [ 0.44386323],\n",
       "       [ 1.76405235]])"
      ]
     },
     "execution_count": 16,
     "metadata": {},
     "output_type": "execute_result"
    }
   ],
   "source": [
    "X"
   ]
  },
  {
   "cell_type": "markdown",
   "metadata": {
    "nbpresent": {
     "id": "241f356d-567a-421d-b27c-7ce2d146d1bb"
    },
    "slideshow": {
     "slide_type": "fragment"
    }
   },
   "source": [
    "The response or output is directly proportional to the input"
   ]
  },
  {
   "cell_type": "markdown",
   "metadata": {
    "nbpresent": {
     "id": "fa78fa75-54cf-40d3-b52c-4b51c5070d9a"
    },
    "slideshow": {
     "slide_type": "fragment"
    }
   },
   "source": [
    "We can see from the data that we have a linear trend in our model. (The response or output is directly proportional to the input)"
   ]
  },
  {
   "cell_type": "markdown",
   "metadata": {
    "nbpresent": {
     "id": "335f050d-99af-43b3-a5ec-69fe896e48e2"
    },
    "slideshow": {
     "slide_type": "subslide"
    }
   },
   "source": [
    "We can use Linear Regression to fit a line through the data."
   ]
  },
  {
   "cell_type": "markdown",
   "metadata": {
    "nbpresent": {
     "id": "19ca6a7e-4b5d-4b0f-88c5-e68634abb65d"
    },
    "slideshow": {
     "slide_type": "fragment"
    }
   },
   "source": [
    "![lr](../Images/linear_regression.jpg)"
   ]
  },
  {
   "cell_type": "markdown",
   "metadata": {
    "nbpresent": {
     "id": "7317e4f2-150e-4336-ac48-d82641441aa8"
    },
    "slideshow": {
     "slide_type": "subslide"
    }
   },
   "source": [
    "Using a trained model allows us to make predictions of the output value (Home Selling Price) given a new input (Number of Bathrooms)."
   ]
  },
  {
   "cell_type": "markdown",
   "metadata": {
    "nbpresent": {
     "id": "69b638ed-ed32-4824-bb81-df958c215a33"
    },
    "slideshow": {
     "slide_type": "fragment"
    }
   },
   "source": [
    "![pre-prices1](../Images/predict_prices_1.png)"
   ]
  },
  {
   "cell_type": "markdown",
   "metadata": {
    "nbpresent": {
     "id": "664c64ef-5517-4725-95cb-874bbc7711c7"
    },
    "slideshow": {
     "slide_type": "subslide"
    }
   },
   "source": [
    "New House on the Market\n",
    "![pre-prices2](../Images/predict_prices_2.png)"
   ]
  },
  {
   "cell_type": "markdown",
   "metadata": {
    "nbpresent": {
     "id": "348e164e-a000-4def-92c0-db93f9a617a1"
    },
    "slideshow": {
     "slide_type": "subslide"
    }
   },
   "source": [
    "We can use our linear model to predict the price of that house\n",
    "![pre-prices3](../Images/predict_prices_3.png)"
   ]
  },
  {
   "cell_type": "markdown",
   "metadata": {
    "nbpresent": {
     "id": "a3b6e99c-2c85-47da-b29b-3b53c3c309b8"
    },
    "slideshow": {
     "slide_type": "subslide"
    }
   },
   "source": [
    "What about non-linear data?"
   ]
  },
  {
   "cell_type": "code",
   "execution_count": 4,
   "metadata": {
    "nbpresent": {
     "id": "4d6b8af6-438e-4034-bda1-1f977cf12441"
    },
    "slideshow": {
     "slide_type": "fragment"
    }
   },
   "outputs": [
    {
     "data": {
      "text/plain": [
<<<<<<< HEAD
       "<matplotlib.collections.PathCollection at 0x19a543bcc18>"
=======
       "<matplotlib.collections.PathCollection at 0x2037e8184e0>"
>>>>>>> eb531489b8af88b035a87dfe484f63fae95d5820
      ]
     },
     "execution_count": 4,
     "metadata": {},
     "output_type": "execute_result"
    },
    {
     "data": {
<<<<<<< HEAD
      "image/png": "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\n",
=======
      "image/png": "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\n",
>>>>>>> eb531489b8af88b035a87dfe484f63fae95d5820
      "text/plain": [
       "<Figure size 432x288 with 1 Axes>"
      ]
     },
     "metadata": {
      "needs_background": "light"
     },
     "output_type": "display_data"
    }
   ],
   "source": [
    "from sklearn.datasets import make_s_curve\n",
    "\n",
    "data, color = make_s_curve(100, random_state=0)\n",
    "plt.scatter(data[:,0], color)"
   ]
  },
  {
   "cell_type": "markdown",
   "metadata": {
    "nbpresent": {
     "id": "e61ba538-5828-4a5a-a2c5-4fcceac35889"
    },
    "slideshow": {
     "slide_type": "subslide"
    }
   },
   "source": [
    "![happy](../Images/happy.gif)"
   ]
  },
  {
   "cell_type": "markdown",
   "metadata": {
    "nbpresent": {
     "id": "f1c699bc-6717-4eb9-8e6d-66d433ba4618"
    },
    "slideshow": {
     "slide_type": "slide"
    }
   },
   "source": [
    "## Linear Regression \n",
    "\n",
    "A regression line is simply calculating a line that best fits the data. This is typically done through the least squares method where the line is chosen to have the smallest overall distance to the points.\n",
    "\n",
    "$y = \\theta_0 + \\theta_1 x$\n",
    "\n",
    "* $y$ is the output response\n",
    "* $x$ is the input feature\n",
    "* $\\theta_0$ is the y-axis intercept\n",
    "* $\\theta_1$ is weight coefficient (slope)\n"
   ]
  },
  {
   "cell_type": "markdown",
   "metadata": {
    "nbpresent": {
     "id": "7d5d2002-5cae-4d5f-8e2e-d5eaf5cd17da"
    },
    "slideshow": {
     "slide_type": "slide"
    }
   },
   "source": [
    "## Sklearn\n",
    "\n",
    "The Sklearn library provides us with a Linear Regression model that will fit a line to our data. Sklearn follows a consistent API where you define a model object, fit the model to the data, and then make predictions with the model.\n",
    "![sklearn](../Images/sklearn_api.png)"
   ]
  },
  {
   "cell_type": "markdown",
   "metadata": {
    "nbpresent": {
     "id": "69fab88f-0864-47cc-933b-eaffb638cbf3"
    },
    "slideshow": {
     "slide_type": "subslide"
    }
   },
   "source": [
    "First, we create the model using the Sklearn LinearRegression model."
   ]
  },
  {
   "cell_type": "code",
<<<<<<< HEAD
   "execution_count": 5,
=======
   "execution_count": 6,
>>>>>>> eb531489b8af88b035a87dfe484f63fae95d5820
   "metadata": {
    "nbpresent": {
     "id": "3810c2af-fdbe-4f01-bc9f-2bb1a8ae70c6"
    },
    "slideshow": {
     "slide_type": "fragment"
    }
   },
   "outputs": [
    {
     "data": {
      "text/plain": [
<<<<<<< HEAD
       "LinearRegression(copy_X=True, fit_intercept=True, n_jobs=None, normalize=False)"
      ]
     },
     "execution_count": 5,
=======
       "LinearRegression(copy_X=True, fit_intercept=True, n_jobs=None,\n",
       "         normalize=False)"
      ]
     },
     "execution_count": 6,
>>>>>>> eb531489b8af88b035a87dfe484f63fae95d5820
     "metadata": {},
     "output_type": "execute_result"
    }
   ],
   "source": [
    "from sklearn.linear_model import LinearRegression\n",
    "model = LinearRegression()\n",
    "model"
   ]
  },
  {
   "cell_type": "markdown",
   "metadata": {
    "nbpresent": {
     "id": "c3820b22-bf55-4dca-ba8b-f08060567b6e"
    },
    "slideshow": {
     "slide_type": "subslide"
    }
   },
   "source": [
    "Next, we fit the model to our data using the fit method. "
   ]
  },
  {
   "cell_type": "code",
<<<<<<< HEAD
   "execution_count": 6,
=======
   "execution_count": 8,
>>>>>>> eb531489b8af88b035a87dfe484f63fae95d5820
   "metadata": {
    "nbpresent": {
     "id": "aeeeb44d-7825-4050-b7ba-70813bd3396b"
    },
    "slideshow": {
     "slide_type": "fragment"
    }
   },
   "outputs": [
    {
     "name": "stdout",
     "output_type": "stream",
     "text": [
<<<<<<< HEAD
      "LinearRegression(copy_X=True, fit_intercept=True, n_jobs=None, normalize=False)\n"
=======
      "LinearRegression(copy_X=True, fit_intercept=True, n_jobs=None,\n",
      "         normalize=False)\n"
>>>>>>> eb531489b8af88b035a87dfe484f63fae95d5820
     ]
    }
   ],
   "source": [
    "model.fit(X, y)\n",
    "print(model)"
   ]
  },
  {
   "cell_type": "markdown",
   "metadata": {
    "nbpresent": {
     "id": "2e255efc-6ae1-4554-b32f-9400b47007c9"
    },
    "slideshow": {
     "slide_type": "subslide"
    }
   },
   "source": [
    "We can view the coefficients and intercept of the line from the `coef_` and `intercept_` attributes. Note that the `_` suffix indicates that the attribute is available after model is fit to the data (trained)."
   ]
  },
  {
   "cell_type": "code",
<<<<<<< HEAD
   "execution_count": 7,
=======
   "execution_count": 9,
>>>>>>> eb531489b8af88b035a87dfe484f63fae95d5820
   "metadata": {
    "nbpresent": {
     "id": "9bfbb27b-cae0-4feb-809a-77718bb2e6a3"
    },
    "slideshow": {
     "slide_type": "fragment"
    }
   },
   "outputs": [
    {
     "name": "stdout",
     "output_type": "stream",
     "text": [
      "Weight coefficients:  [12.44002424]\n",
      "y-axis intercept:  101.89622505659258\n"
     ]
    }
   ],
   "source": [
    "print('Weight coefficients: ', model.coef_)\n",
    "print('y-axis intercept: ', model.intercept_) "
   ]
  },
  {
   "cell_type": "markdown",
   "metadata": {
    "nbpresent": {
     "id": "711a40c8-c479-448b-a3bc-5c7ff8369838"
    },
    "slideshow": {
     "slide_type": "fragment"
    }
   },
   "source": [
    "Our linear model now looks like this: \n",
    "\n",
    "$y = 101.896225057 + 12.44002424 x$\n"
   ]
  },
  {
   "cell_type": "markdown",
   "metadata": {
    "nbpresent": {
     "id": "e54b79a1-316d-4fd1-ad5f-6cd580b51f99"
    },
    "slideshow": {
     "slide_type": "subslide"
    }
   },
   "source": [
    "We can use our model to make predictions."
   ]
  },
  {
   "cell_type": "code",
<<<<<<< HEAD
   "execution_count": 8,
=======
   "execution_count": 11,
>>>>>>> eb531489b8af88b035a87dfe484f63fae95d5820
   "metadata": {
    "nbpresent": {
     "id": "3d860568-b048-40f2-a64d-f585211d6c1c"
    },
    "slideshow": {
     "slide_type": "fragment"
    }
   },
   "outputs": [
    {
     "name": "stdout",
     "output_type": "stream",
     "text": [
      "True output: 98.01970393090812\n",
      "Predicted output: 100.01333771669648\n",
      "Prediction Error: 1.9936337857883615\n"
     ]
    }
   ],
   "source": [
    "predictions = model.predict(X)\n",
    "print(f\"True output: {y[0]}\")\n",
    "print(f\"Predicted output: {predictions[0]}\")\n",
    "print(f\"Prediction Error: {predictions[0]-y[0]}\")"
   ]
  },
  {
   "cell_type": "code",
<<<<<<< HEAD
   "execution_count": 9,
=======
   "execution_count": 13,
>>>>>>> eb531489b8af88b035a87dfe484f63fae95d5820
   "metadata": {
    "nbpresent": {
     "id": "a6d0bdff-9bba-472e-b354-da47b8761dbe"
    },
    "scrolled": true,
    "slideshow": {
     "slide_type": "subslide"
    }
   },
   "outputs": [
    {
     "data": {
      "text/html": [
       "<div>\n",
       "<style scoped>\n",
       "    .dataframe tbody tr th:only-of-type {\n",
       "        vertical-align: middle;\n",
       "    }\n",
       "\n",
       "    .dataframe tbody tr th {\n",
       "        vertical-align: top;\n",
       "    }\n",
       "\n",
       "    .dataframe thead th {\n",
       "        text-align: right;\n",
       "    }\n",
       "</style>\n",
       "<table border=\"1\" class=\"dataframe\">\n",
       "  <thead>\n",
       "    <tr style=\"text-align: right;\">\n",
       "      <th></th>\n",
       "      <th>Predicted</th>\n",
       "      <th>Actual</th>\n",
       "      <th>Error</th>\n",
       "    </tr>\n",
       "  </thead>\n",
       "  <tbody>\n",
       "    <tr>\n",
       "      <th>0</th>\n",
       "      <td>100.013338</td>\n",
       "      <td>98.019704</td>\n",
       "      <td>1.993634</td>\n",
       "    </tr>\n",
       "    <tr>\n",
       "      <th>1</th>\n",
       "      <td>106.874190</td>\n",
       "      <td>108.458654</td>\n",
       "      <td>-1.584464</td>\n",
       "    </tr>\n",
       "    <tr>\n",
       "      <th>2</th>\n",
       "      <td>114.071749</td>\n",
       "      <td>107.776544</td>\n",
       "      <td>6.295205</td>\n",
       "    </tr>\n",
       "    <tr>\n",
       "      <th>3</th>\n",
       "      <td>91.271253</td>\n",
       "      <td>90.315201</td>\n",
       "      <td>0.956053</td>\n",
       "    </tr>\n",
       "    <tr>\n",
       "      <th>4</th>\n",
       "      <td>89.738865</td>\n",
       "      <td>92.047965</td>\n",
       "      <td>-2.309101</td>\n",
       "    </tr>\n",
       "    <tr>\n",
       "      <th>5</th>\n",
       "      <td>105.790795</td>\n",
       "      <td>100.144726</td>\n",
       "      <td>5.646069</td>\n",
       "    </tr>\n",
       "    <tr>\n",
       "      <th>6</th>\n",
       "      <td>100.612180</td>\n",
       "      <td>104.371286</td>\n",
       "      <td>-3.759106</td>\n",
       "    </tr>\n",
       "    <tr>\n",
       "      <th>7</th>\n",
       "      <td>99.344051</td>\n",
       "      <td>95.208967</td>\n",
       "      <td>4.135085</td>\n",
       "    </tr>\n",
       "    <tr>\n",
       "      <th>8</th>\n",
       "      <td>106.047142</td>\n",
       "      <td>102.505262</td>\n",
       "      <td>3.541880</td>\n",
       "    </tr>\n",
       "    <tr>\n",
       "      <th>9</th>\n",
       "      <td>120.482605</td>\n",
       "      <td>122.119661</td>\n",
       "      <td>-1.637056</td>\n",
       "    </tr>\n",
       "    <tr>\n",
       "      <th>10</th>\n",
       "      <td>113.715348</td>\n",
       "      <td>112.287600</td>\n",
       "      <td>1.427748</td>\n",
       "    </tr>\n",
       "    <tr>\n",
       "      <th>11</th>\n",
       "      <td>103.409865</td>\n",
       "      <td>107.326140</td>\n",
       "      <td>-3.916275</td>\n",
       "    </tr>\n",
       "    <tr>\n",
       "      <th>12</th>\n",
       "      <td>119.987423</td>\n",
       "      <td>121.444549</td>\n",
       "      <td>-1.457126</td>\n",
       "    </tr>\n",
       "    <tr>\n",
       "      <th>13</th>\n",
       "      <td>125.128692</td>\n",
       "      <td>125.803460</td>\n",
       "      <td>-0.674768</td>\n",
       "    </tr>\n",
       "    <tr>\n",
       "      <th>14</th>\n",
       "      <td>103.688131</td>\n",
       "      <td>104.330672</td>\n",
       "      <td>-0.642542</td>\n",
       "    </tr>\n",
       "    <tr>\n",
       "      <th>15</th>\n",
       "      <td>107.004080</td>\n",
       "      <td>112.026181</td>\n",
       "      <td>-5.022101</td>\n",
       "    </tr>\n",
       "    <tr>\n",
       "      <th>16</th>\n",
       "      <td>111.363553</td>\n",
       "      <td>106.596614</td>\n",
       "      <td>4.766939</td>\n",
       "    </tr>\n",
       "    <tr>\n",
       "      <th>17</th>\n",
       "      <td>129.772991</td>\n",
       "      <td>129.857150</td>\n",
       "      <td>-0.084159</td>\n",
       "    </tr>\n",
       "    <tr>\n",
       "      <th>18</th>\n",
       "      <td>107.417894</td>\n",
       "      <td>113.512862</td>\n",
       "      <td>-6.094967</td>\n",
       "    </tr>\n",
       "    <tr>\n",
       "      <th>19</th>\n",
       "      <td>123.841079</td>\n",
       "      <td>125.422026</td>\n",
       "      <td>-1.580947</td>\n",
       "    </tr>\n",
       "  </tbody>\n",
       "</table>\n",
       "</div>"
      ],
      "text/plain": [
       "     Predicted      Actual     Error\n",
       "0   100.013338   98.019704  1.993634\n",
       "1   106.874190  108.458654 -1.584464\n",
       "2   114.071749  107.776544  6.295205\n",
       "3    91.271253   90.315201  0.956053\n",
       "4    89.738865   92.047965 -2.309101\n",
       "5   105.790795  100.144726  5.646069\n",
       "6   100.612180  104.371286 -3.759106\n",
       "7    99.344051   95.208967  4.135085\n",
       "8   106.047142  102.505262  3.541880\n",
       "9   120.482605  122.119661 -1.637056\n",
       "10  113.715348  112.287600  1.427748\n",
       "11  103.409865  107.326140 -3.916275\n",
       "12  119.987423  121.444549 -1.457126\n",
       "13  125.128692  125.803460 -0.674768\n",
       "14  103.688131  104.330672 -0.642542\n",
       "15  107.004080  112.026181 -5.022101\n",
       "16  111.363553  106.596614  4.766939\n",
       "17  129.772991  129.857150 -0.084159\n",
       "18  107.417894  113.512862 -6.094967\n",
       "19  123.841079  125.422026 -1.580947"
      ]
     },
<<<<<<< HEAD
     "execution_count": 9,
=======
     "execution_count": 13,
>>>>>>> eb531489b8af88b035a87dfe484f63fae95d5820
     "metadata": {},
     "output_type": "execute_result"
    }
   ],
   "source": [
    "pd.DataFrame({\"Predicted\": predictions, \"Actual\": y, \"Error\": predictions - y})[[\"Predicted\", \"Actual\", \"Error\"]]"
   ]
  },
  {
   "cell_type": "markdown",
   "metadata": {
    "nbpresent": {
     "id": "d7df6fa0-ce96-4073-b95d-ce78b3f4fdf1"
    },
    "slideshow": {
     "slide_type": "subslide"
    }
   },
   "source": [
    "We can calculate the output response for the minimum and maximum input values. Note: This is useful later when we want to plot the fit line."
   ]
  },
  {
   "cell_type": "code",
<<<<<<< HEAD
   "execution_count": 10,
=======
   "execution_count": 14,
>>>>>>> eb531489b8af88b035a87dfe484f63fae95d5820
   "metadata": {
    "nbpresent": {
     "id": "28aaab45-1e14-4db5-9d2c-63b239cafe13"
    },
    "slideshow": {
     "slide_type": "fragment"
    }
   },
   "outputs": [],
   "source": [
    "x_min = X.min()\n",
    "x_max = X.max()"
   ]
  },
  {
   "cell_type": "code",
<<<<<<< HEAD
   "execution_count": 11,
=======
   "execution_count": 15,
>>>>>>> eb531489b8af88b035a87dfe484f63fae95d5820
   "metadata": {
    "nbpresent": {
     "id": "5e425283-82de-4c48-b2ae-31a1d6983849"
    },
    "slideshow": {
     "slide_type": "fragment"
    }
   },
   "outputs": [],
   "source": [
    "y_min_actual = y.min()\n",
    "y_max_actual = y.max()"
   ]
  },
  {
   "cell_type": "code",
<<<<<<< HEAD
   "execution_count": 12,
=======
   "execution_count": 16,
>>>>>>> eb531489b8af88b035a87dfe484f63fae95d5820
   "metadata": {
    "nbpresent": {
     "id": "4a5226b5-d431-4cbe-86a6-291952a45a37"
    },
    "slideshow": {
     "slide_type": "fragment"
    }
   },
   "outputs": [
    {
     "name": "stdout",
     "output_type": "stream",
     "text": [
      "Actual Min Value: 90.31520078064568\n",
      "Calculated Min Value: 89.73886454212163\n",
      "Actual Max Value: 129.85715020208258\n",
      "Calculated Max Value: 129.7729907743173\n"
     ]
    }
   ],
   "source": [
    "y_min = 101.896225057 + 12.44002424 * x_min\n",
    "y_max = 101.896225057 + 12.44002424 * x_max\n",
    "print(f\"Actual Min Value: {y_min_actual}\")\n",
    "print(f\"Calculated Min Value: {y_min}\")\n",
    "print(f\"Actual Max Value: {y_max_actual}\")\n",
    "print(f\"Calculated Max Value: {y_max}\")"
   ]
  },
  {
   "cell_type": "markdown",
   "metadata": {
    "nbpresent": {
     "id": "46550b81-7dd8-4efc-b710-0f10002c9f2b"
    },
    "slideshow": {
     "slide_type": "subslide"
    }
   },
   "source": [
    "We can also use the predict function to calculate predicted values"
   ]
  },
  {
   "cell_type": "code",
<<<<<<< HEAD
   "execution_count": 13,
=======
   "execution_count": 17,
>>>>>>> eb531489b8af88b035a87dfe484f63fae95d5820
   "metadata": {
    "nbpresent": {
     "id": "2b83c32a-d7e2-4db6-b45f-afbbf028fe90"
    },
    "slideshow": {
     "slide_type": "fragment"
    }
   },
   "outputs": [
    {
     "name": "stdout",
     "output_type": "stream",
     "text": [
      "Actual Min Value: 90.31520078064568\n",
      "Predicted Min Value: [89.73886454]\n",
      "Actual Max Value: 129.85715020208258\n",
      "Predicted Max Value: [129.77299077]\n"
     ]
    }
   ],
   "source": [
    "y_min_predicted = model.predict([[x_min]])\n",
    "y_max_predicted = model.predict([[x_max]])\n",
    "print(f\"Actual Min Value: {y_min_actual}\")\n",
    "print(f\"Predicted Min Value: {y_min_predicted}\")\n",
    "print(f\"Actual Max Value: {y_max_actual}\")\n",
    "print(f\"Predicted Max Value: {y_max_predicted}\")"
   ]
  },
  {
   "cell_type": "markdown",
   "metadata": {
    "nbpresent": {
     "id": "318099ba-93dd-4c2c-a3ee-fc6622c472c8"
    },
    "slideshow": {
     "slide_type": "subslide"
    }
   },
   "source": [
    "We can show the model fit by plotting the predicted values against the original data"
   ]
  },
  {
   "cell_type": "code",
<<<<<<< HEAD
   "execution_count": 15,
   "metadata": {},
   "outputs": [
    {
     "data": {
      "text/plain": [
       "-0.977277879876411"
      ]
     },
     "execution_count": 15,
     "metadata": {},
     "output_type": "execute_result"
    }
   ],
   "source": [
    "x_min"
   ]
  },
  {
   "cell_type": "code",
   "execution_count": 14,
=======
   "execution_count": 18,
>>>>>>> eb531489b8af88b035a87dfe484f63fae95d5820
   "metadata": {
    "nbpresent": {
     "id": "8bb35ef7-00cc-4ad9-9dd4-6fac480df38e"
    },
    "slideshow": {
     "slide_type": "fragment"
    }
   },
   "outputs": [
    {
     "data": {
      "text/plain": [
<<<<<<< HEAD
       "[<matplotlib.lines.Line2D at 0x19a54620cf8>]"
      ]
     },
     "execution_count": 14,
=======
       "[<matplotlib.lines.Line2D at 0x2037ed87048>]"
      ]
     },
     "execution_count": 18,
>>>>>>> eb531489b8af88b035a87dfe484f63fae95d5820
     "metadata": {},
     "output_type": "execute_result"
    },
    {
     "data": {
<<<<<<< HEAD
      "image/png": "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\n",
=======
      "image/png": "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\n",
>>>>>>> eb531489b8af88b035a87dfe484f63fae95d5820
      "text/plain": [
       "<Figure size 432x288 with 1 Axes>"
      ]
     },
     "metadata": {
      "needs_background": "light"
     },
     "output_type": "display_data"
    }
   ],
   "source": [
    "plt.scatter(X, y, c='blue')\n",
    "plt.plot([x_min, x_max], [y_min, y_max], c='red')"
   ]
  },
  {
   "cell_type": "markdown",
   "metadata": {
    "nbpresent": {
     "id": "67aab8fa-45cd-4ede-8285-e3dad22d8b16"
    },
    "slideshow": {
     "slide_type": "slide"
    }
   },
   "source": [
    "## Your Turn!"
   ]
  }
 ],
 "metadata": {
  "anaconda-cloud": {},
  "celltoolbar": "Slideshow",
  "kernelspec": {
   "display_name": "Python 3",
   "language": "python",
   "name": "python3"
  },
  "language_info": {
   "codemirror_mode": {
    "name": "ipython",
    "version": 3
   },
   "file_extension": ".py",
   "mimetype": "text/x-python",
   "name": "python",
   "nbconvert_exporter": "python",
   "pygments_lexer": "ipython3",
   "version": "3.7.3"
  },
  "nbpresent": {
   "slides": {
    "03210a56-863e-4749-b7ba-ed75bfceceee": {
     "id": "03210a56-863e-4749-b7ba-ed75bfceceee",
     "prev": "86b3b05f-6e9a-49dc-8a83-97f72c348c5f",
     "regions": {
      "2be9481c-cff7-4f32-b835-90f2a2cb989a": {
       "attrs": {
        "height": 0.8,
        "width": 0.8,
        "x": 0.1,
        "y": 0.1
       },
       "content": {
        "cell": "46550b81-7dd8-4efc-b710-0f10002c9f2b",
        "part": "whole"
       },
       "id": "2be9481c-cff7-4f32-b835-90f2a2cb989a"
      },
      "3f484569-30ec-4529-8d3c-ac88b8c6dbfb": {
       "attrs": {
        "height": 0.4,
        "width": 0.8,
        "x": 0.1,
        "y": 0.5
       },
       "content": {
        "cell": "2b83c32a-d7e2-4db6-b45f-afbbf028fe90",
        "part": "whole"
       },
       "id": "3f484569-30ec-4529-8d3c-ac88b8c6dbfb"
      }
     }
    },
    "22531930-3fc8-45ff-a4f1-32e94c1d1455": {
     "id": "22531930-3fc8-45ff-a4f1-32e94c1d1455",
     "prev": "8eb735f6-11af-4f77-a4ed-b637fb18ac08",
     "regions": {
      "1407c818-c9fd-470e-8260-6b6904d888de": {
       "attrs": {
        "height": 0.8,
        "width": 0.8,
        "x": 0.1,
        "y": 0.1
       },
       "content": {
        "cell": "664c64ef-5517-4725-95cb-874bbc7711c7",
        "part": "whole"
       },
       "id": "1407c818-c9fd-470e-8260-6b6904d888de"
      }
     }
    },
    "29c55765-6994-4dbf-b82f-117b4f1e0cee": {
     "id": "29c55765-6994-4dbf-b82f-117b4f1e0cee",
     "prev": "b7c25bc1-4dd7-421b-9951-0c0c403c176d",
     "regions": {
      "44583f15-ec4f-4aec-8e7c-f01652e954fc": {
       "attrs": {
        "height": 0.8,
        "width": 0.8,
        "x": 0.1,
        "y": 0.1
       },
       "content": {
        "cell": "7c23961d-86fe-4d07-bc58-6d61f03c3731",
        "part": "whole"
       },
       "id": "44583f15-ec4f-4aec-8e7c-f01652e954fc"
      }
     }
    },
    "39c5764b-ab2c-4aae-8500-dc39319e4d38": {
     "id": "39c5764b-ab2c-4aae-8500-dc39319e4d38",
     "prev": "22531930-3fc8-45ff-a4f1-32e94c1d1455",
     "regions": {
      "d0237596-8095-44dc-81c6-6d9c6b204684": {
       "attrs": {
        "height": 0.8,
        "width": 0.8,
        "x": 0.1,
        "y": 0.1
       },
       "content": {
        "cell": "348e164e-a000-4def-92c0-db93f9a617a1",
        "part": "whole"
       },
       "id": "d0237596-8095-44dc-81c6-6d9c6b204684"
      }
     }
    },
    "39e950f1-f2c4-422a-8f45-835c5c61e7e0": {
     "id": "39e950f1-f2c4-422a-8f45-835c5c61e7e0",
     "prev": "4b5f1824-db4a-4ef3-9515-a88d3f2276c1",
     "regions": {
      "0a72cc48-c38f-4e8c-94d3-3198eccde68a": {
       "attrs": {
        "height": 0.8,
        "width": 0.8,
        "x": 0.1,
        "y": 0.1
       },
       "content": {
        "cell": "c3820b22-bf55-4dca-ba8b-f08060567b6e",
        "part": "whole"
       },
       "id": "0a72cc48-c38f-4e8c-94d3-3198eccde68a"
      },
      "b49c6eca-318f-41b8-a7a5-a620d18f639c": {
       "attrs": {
        "height": 0.4,
        "width": 0.8,
        "x": 0.1,
        "y": 0.5
       },
       "content": {
        "cell": "aeeeb44d-7825-4050-b7ba-70813bd3396b",
        "part": "whole"
       },
       "id": "b49c6eca-318f-41b8-a7a5-a620d18f639c"
      }
     }
    },
    "4792c0cc-ccd4-48bf-9b0e-a3c1f0f3008d": {
     "id": "4792c0cc-ccd4-48bf-9b0e-a3c1f0f3008d",
     "prev": "39c5764b-ab2c-4aae-8500-dc39319e4d38",
     "regions": {
      "d4adae26-ff2f-4a81-ad91-fd3a9bfd965c": {
       "attrs": {
        "height": 0.4,
        "width": 0.8,
        "x": 0.1,
        "y": 0.5
       },
       "content": {
        "cell": "4d6b8af6-438e-4034-bda1-1f977cf12441",
        "part": "whole"
       },
       "id": "d4adae26-ff2f-4a81-ad91-fd3a9bfd965c"
      },
      "d75a8261-ee89-4f4d-b388-2f429e112f44": {
       "attrs": {
        "height": 0.8,
        "width": 0.8,
        "x": 0.1,
        "y": 0.1
       },
       "content": {
        "cell": "a3b6e99c-2c85-47da-b29b-3b53c3c309b8",
        "part": "whole"
       },
       "id": "d75a8261-ee89-4f4d-b388-2f429e112f44"
      }
     }
    },
    "4b5f1824-db4a-4ef3-9515-a88d3f2276c1": {
     "id": "4b5f1824-db4a-4ef3-9515-a88d3f2276c1",
     "prev": "e92a9020-6631-400a-aa50-46c1fa0a5f0c",
     "regions": {
      "2bd81133-11e3-48df-bf12-2d0a57949bca": {
       "attrs": {
        "height": 0.8,
        "width": 0.8,
        "x": 0.1,
        "y": 0.1
       },
       "content": {
        "cell": "69fab88f-0864-47cc-933b-eaffb638cbf3",
        "part": "whole"
       },
       "id": "2bd81133-11e3-48df-bf12-2d0a57949bca"
      },
      "d3322861-28ab-4f1e-8a1f-3a7f4d3da8c1": {
       "attrs": {
        "height": 0.4,
        "width": 0.8,
        "x": 0.1,
        "y": 0.5
       },
       "content": {
        "cell": "3810c2af-fdbe-4f01-bc9f-2bb1a8ae70c6",
        "part": "whole"
       },
       "id": "d3322861-28ab-4f1e-8a1f-3a7f4d3da8c1"
      }
     }
    },
    "57992fb9-2f74-4e8e-8772-7b9f04606a56": {
     "id": "57992fb9-2f74-4e8e-8772-7b9f04606a56",
     "prev": "595093b4-3f86-406c-abb5-aea78e1241b3",
     "regions": {
      "3b3c8191-9f7e-4ab2-afac-b2b47008484a": {
       "attrs": {
        "height": 0.8,
        "width": 0.8,
        "x": 0.1,
        "y": 0.1
       },
       "content": {
        "cell": "a6d0bdff-9bba-472e-b354-da47b8761dbe",
        "part": "whole"
       },
       "id": "3b3c8191-9f7e-4ab2-afac-b2b47008484a"
      }
     }
    },
    "5907f515-df93-4e86-82c6-b8721b6e6346": {
     "id": "5907f515-df93-4e86-82c6-b8721b6e6346",
     "prev": "39e950f1-f2c4-422a-8f45-835c5c61e7e0",
     "regions": {
      "22f9005a-ed7a-4399-b501-497565ada2da": {
       "attrs": {
        "height": 0.8,
        "width": 0.8,
        "x": 0.1,
        "y": 0.1
       },
       "content": {
        "cell": "2e255efc-6ae1-4554-b32f-9400b47007c9",
        "part": "whole"
       },
       "id": "22f9005a-ed7a-4399-b501-497565ada2da"
      },
      "82d64cef-48f7-413c-ad01-e7fa2921f7c0": {
       "attrs": {
        "height": 0.4,
        "width": 0.8,
        "x": 0.1,
        "y": 0.5
       },
       "content": {
        "cell": "711a40c8-c479-448b-a3bc-5c7ff8369838",
        "part": "whole"
       },
       "id": "82d64cef-48f7-413c-ad01-e7fa2921f7c0"
      },
      "d943d3ea-6cd3-4d4a-8914-7fea0231efda": {
       "attrs": {
        "height": 0.4,
        "width": 0.8,
        "x": 0.1,
        "y": 0.5
       },
       "content": {
        "cell": "9bfbb27b-cae0-4feb-809a-77718bb2e6a3",
        "part": "whole"
       },
       "id": "d943d3ea-6cd3-4d4a-8914-7fea0231efda"
      }
     }
    },
    "595093b4-3f86-406c-abb5-aea78e1241b3": {
     "id": "595093b4-3f86-406c-abb5-aea78e1241b3",
     "prev": "5907f515-df93-4e86-82c6-b8721b6e6346",
     "regions": {
      "3366a1dc-6c33-45f0-a97f-a2744ed0587f": {
       "attrs": {
        "height": 0.8,
        "width": 0.8,
        "x": 0.1,
        "y": 0.1
       },
       "content": {
        "cell": "e54b79a1-316d-4fd1-ad5f-6cd580b51f99",
        "part": "whole"
       },
       "id": "3366a1dc-6c33-45f0-a97f-a2744ed0587f"
      },
      "40b6dba8-5994-4fd0-9ce5-9d36f3bb9f93": {
       "attrs": {
        "height": 0.4,
        "width": 0.8,
        "x": 0.1,
        "y": 0.5
       },
       "content": {
        "cell": "3d860568-b048-40f2-a64d-f585211d6c1c",
        "part": "whole"
       },
       "id": "40b6dba8-5994-4fd0-9ce5-9d36f3bb9f93"
      }
     }
    },
    "76838eab-c2c3-4ff3-b09f-854a7c74c6d4": {
     "id": "76838eab-c2c3-4ff3-b09f-854a7c74c6d4",
     "prev": null,
     "regions": {
      "b0032c00-1d89-4c94-a7a0-488f243c381e": {
       "attrs": {
        "height": 0.8,
        "width": 0.8,
        "x": 0.1,
        "y": 0.1
       },
       "content": {
        "cell": "0dc0cdcb-d8df-4a29-a0d2-a3cf6cc889ce",
        "part": "whole"
       },
       "id": "b0032c00-1d89-4c94-a7a0-488f243c381e"
      }
     }
    },
    "7a25817a-e5bc-4021-9c6b-61bc74dbdb92": {
     "id": "7a25817a-e5bc-4021-9c6b-61bc74dbdb92",
     "prev": "b04719fc-934a-404b-a642-dc732a3d1589",
     "regions": {
      "38d56409-500a-45cf-8e79-722d68d8fc38": {
       "attrs": {
        "height": 0.8,
        "width": 0.8,
        "x": 0.1,
        "y": 0.1
       },
       "content": {
        "cell": "335f050d-99af-43b3-a5ec-69fe896e48e2",
        "part": "whole"
       },
       "id": "38d56409-500a-45cf-8e79-722d68d8fc38"
      },
      "c838cb6d-409c-4c17-a1eb-3d7dc6aab32b": {
       "attrs": {
        "height": 0.4,
        "width": 0.8,
        "x": 0.1,
        "y": 0.5
       },
       "content": {
        "cell": "19ca6a7e-4b5d-4b0f-88c5-e68634abb65d",
        "part": "whole"
       },
       "id": "c838cb6d-409c-4c17-a1eb-3d7dc6aab32b"
      }
     }
    },
    "86b3b05f-6e9a-49dc-8a83-97f72c348c5f": {
     "id": "86b3b05f-6e9a-49dc-8a83-97f72c348c5f",
     "prev": "57992fb9-2f74-4e8e-8772-7b9f04606a56",
     "regions": {
      "49a41ef6-224d-46c1-bb81-254b8a4cee88": {
       "attrs": {
        "height": 0.8,
        "width": 0.8,
        "x": 0.1,
        "y": 0.1
       },
       "content": {
        "cell": "d7df6fa0-ce96-4073-b95d-ce78b3f4fdf1",
        "part": "whole"
       },
       "id": "49a41ef6-224d-46c1-bb81-254b8a4cee88"
      },
      "7ce316ab-4799-4e15-b095-374da21bc1aa": {
       "attrs": {
        "height": 0.4,
        "width": 0.8,
        "x": 0.1,
        "y": 0.5
       },
       "content": {
        "cell": "4a5226b5-d431-4cbe-86a6-291952a45a37",
        "part": "whole"
       },
       "id": "7ce316ab-4799-4e15-b095-374da21bc1aa"
      },
      "a7d701c6-61e3-48e3-8e0d-a4b318aef7d8": {
       "attrs": {
        "height": 0.4,
        "width": 0.8,
        "x": 0.1,
        "y": 0.5
       },
       "content": {
        "cell": "5e425283-82de-4c48-b2ae-31a1d6983849",
        "part": "whole"
       },
       "id": "a7d701c6-61e3-48e3-8e0d-a4b318aef7d8"
      },
      "e180cf23-71a7-46a8-8598-86a079bd7d78": {
       "attrs": {
        "height": 0.4,
        "width": 0.8,
        "x": 0.1,
        "y": 0.5
       },
       "content": {
        "cell": "28aaab45-1e14-4db5-9d2c-63b239cafe13",
        "part": "whole"
       },
       "id": "e180cf23-71a7-46a8-8598-86a079bd7d78"
      }
     }
    },
    "8eb735f6-11af-4f77-a4ed-b637fb18ac08": {
     "id": "8eb735f6-11af-4f77-a4ed-b637fb18ac08",
     "prev": "7a25817a-e5bc-4021-9c6b-61bc74dbdb92",
     "regions": {
      "ca38ef02-01f9-42cb-9e35-d67f8d665597": {
       "attrs": {
        "height": 0.4,
        "width": 0.8,
        "x": 0.1,
        "y": 0.5
       },
       "content": {
        "cell": "69b638ed-ed32-4824-bb81-df958c215a33",
        "part": "whole"
       },
       "id": "ca38ef02-01f9-42cb-9e35-d67f8d665597"
      },
      "fc52547b-a8f8-40e2-9397-5b18ca2b71b3": {
       "attrs": {
        "height": 0.8,
        "width": 0.8,
        "x": 0.1,
        "y": 0.1
       },
       "content": {
        "cell": "7317e4f2-150e-4336-ac48-d82641441aa8",
        "part": "whole"
       },
       "id": "fc52547b-a8f8-40e2-9397-5b18ca2b71b3"
      }
     }
    },
    "af2f5933-b31d-4d30-b08a-e4c09432b9bb": {
     "id": "af2f5933-b31d-4d30-b08a-e4c09432b9bb",
     "prev": "29c55765-6994-4dbf-b82f-117b4f1e0cee",
     "regions": {
      "479b436f-50bb-4c3a-9a4e-748e85eacde6": {
       "attrs": {
        "height": 0.8,
        "width": 0.8,
        "x": 0.1,
        "y": 0.1
       },
       "content": {
        "cell": "6d53481c-69ff-41a0-937e-4e8a39e2b2b5",
        "part": "whole"
       },
       "id": "479b436f-50bb-4c3a-9a4e-748e85eacde6"
      },
      "a02a5bdc-cab5-4ddc-aa9d-8ee5e0db6bd4": {
       "attrs": {
        "height": 0.4,
        "width": 0.8,
        "x": 0.1,
        "y": 0.5
       },
       "content": {
        "cell": "b0f8400f-71e1-4892-9012-88e54c053a36",
        "part": "whole"
       },
       "id": "a02a5bdc-cab5-4ddc-aa9d-8ee5e0db6bd4"
      }
     }
    },
    "b04719fc-934a-404b-a642-dc732a3d1589": {
     "id": "b04719fc-934a-404b-a642-dc732a3d1589",
     "prev": "af2f5933-b31d-4d30-b08a-e4c09432b9bb",
     "regions": {
      "701cdc94-3399-40dc-8e45-10d6edbf0959": {
       "attrs": {
        "height": 0.4,
        "width": 0.8,
        "x": 0.1,
        "y": 0.5
       },
       "content": {
        "cell": "fa78fa75-54cf-40d3-b52c-4b51c5070d9a",
        "part": "whole"
       },
       "id": "701cdc94-3399-40dc-8e45-10d6edbf0959"
      },
      "81f01069-a0c6-4ab1-98d1-d465e96aac6d": {
       "attrs": {
        "height": 0.8,
        "width": 0.8,
        "x": 0.1,
        "y": 0.1
       },
       "content": {
        "cell": "fb58a52c-71e9-402d-af86-eab194cf8050",
        "part": "whole"
       },
       "id": "81f01069-a0c6-4ab1-98d1-d465e96aac6d"
      },
      "ae73fc9b-89cf-4405-ab54-34e6c8b73a19": {
       "attrs": {
        "height": 0.4,
        "width": 0.8,
        "x": 0.1,
        "y": 0.5
       },
       "content": {
        "cell": "241f356d-567a-421d-b27c-7ce2d146d1bb",
        "part": "whole"
       },
       "id": "ae73fc9b-89cf-4405-ab54-34e6c8b73a19"
      }
     }
    },
    "b7c25bc1-4dd7-421b-9951-0c0c403c176d": {
     "id": "b7c25bc1-4dd7-421b-9951-0c0c403c176d",
     "prev": "76838eab-c2c3-4ff3-b09f-854a7c74c6d4",
     "regions": {
      "47f524f5-68f8-49df-9a61-61eab6cab03c": {
       "attrs": {
        "height": 0.4,
        "width": 0.8,
        "x": 0.1,
        "y": 0.5
       },
       "content": {
        "cell": "966e050d-5739-4ef9-a2ae-9a4957e14f3e",
        "part": "whole"
       },
       "id": "47f524f5-68f8-49df-9a61-61eab6cab03c"
      },
      "4b3ba01a-29e7-4e67-ac78-988162f7dde9": {
       "attrs": {
        "height": 0.8,
        "width": 0.8,
        "x": 0.1,
        "y": 0.1
       },
       "content": {
        "cell": "91401f60-44eb-42b2-86ea-c82b5e955ace",
        "part": "whole"
       },
       "id": "4b3ba01a-29e7-4e67-ac78-988162f7dde9"
      },
      "a47d9662-0a49-4b84-aae0-908067552ebd": {
       "attrs": {
        "height": 0.4,
        "width": 0.8,
        "x": 0.1,
        "y": 0.5
       },
       "content": {
        "cell": "6de4dae8-c949-4927-89a3-9741aba83e8d",
        "part": "whole"
       },
       "id": "a47d9662-0a49-4b84-aae0-908067552ebd"
      },
      "e64668fe-aafe-4e24-a46d-6a6266eeee77": {
       "attrs": {
        "height": 0.4,
        "width": 0.8,
        "x": 0.1,
        "y": 0.5
       },
       "content": {
        "cell": "7068c96d-f8f0-42bb-bdfd-dcbf9335323c",
        "part": "whole"
       },
       "id": "e64668fe-aafe-4e24-a46d-6a6266eeee77"
      }
     }
    },
    "d3ecec0a-67fe-4558-a268-50695fd7fe1c": {
     "id": "d3ecec0a-67fe-4558-a268-50695fd7fe1c",
     "prev": "fcda7de6-cb93-4b63-9dea-d5f23fecd968",
     "regions": {
      "b268bb57-2543-4b91-b9c0-84aa3cf09d5c": {
       "attrs": {
        "height": 0.8,
        "width": 0.8,
        "x": 0.1,
        "y": 0.1
       },
       "content": {
        "cell": "67aab8fa-45cd-4ede-8285-e3dad22d8b16",
        "part": "whole"
       },
       "id": "b268bb57-2543-4b91-b9c0-84aa3cf09d5c"
      }
     }
    },
    "e92a9020-6631-400a-aa50-46c1fa0a5f0c": {
     "id": "e92a9020-6631-400a-aa50-46c1fa0a5f0c",
     "prev": "ee94ae9b-9e13-414c-a017-db1d8913aaa8",
     "regions": {
      "bb15b4ea-132f-4146-ab77-93a4969c2904": {
       "attrs": {
        "height": 0.8,
        "width": 0.8,
        "x": 0.1,
        "y": 0.1
       },
       "content": {
        "cell": "7d5d2002-5cae-4d5f-8e2e-d5eaf5cd17da",
        "part": "whole"
       },
       "id": "bb15b4ea-132f-4146-ab77-93a4969c2904"
      }
     }
    },
    "ee94ae9b-9e13-414c-a017-db1d8913aaa8": {
     "id": "ee94ae9b-9e13-414c-a017-db1d8913aaa8",
     "prev": "f8fce519-927e-4fd0-88d8-23ece4403794",
     "regions": {
      "0b578bb1-2cd1-480b-8d65-dde0861851cb": {
       "attrs": {
        "height": 0.8,
        "width": 0.8,
        "x": 0.1,
        "y": 0.1
       },
       "content": {
        "cell": "f1c699bc-6717-4eb9-8e6d-66d433ba4618",
        "part": "whole"
       },
       "id": "0b578bb1-2cd1-480b-8d65-dde0861851cb"
      }
     }
    },
    "f8fce519-927e-4fd0-88d8-23ece4403794": {
     "id": "f8fce519-927e-4fd0-88d8-23ece4403794",
     "prev": "4792c0cc-ccd4-48bf-9b0e-a3c1f0f3008d",
     "regions": {
      "7510ae01-fe22-48b0-92cb-29b880cc85fc": {
       "attrs": {
        "height": 0.8,
        "width": 0.8,
        "x": 0.1,
        "y": 0.1
       },
       "content": {
        "cell": "e61ba538-5828-4a5a-a2c5-4fcceac35889",
        "part": "whole"
       },
       "id": "7510ae01-fe22-48b0-92cb-29b880cc85fc"
      }
     }
    },
    "fcda7de6-cb93-4b63-9dea-d5f23fecd968": {
     "id": "fcda7de6-cb93-4b63-9dea-d5f23fecd968",
     "prev": "03210a56-863e-4749-b7ba-ed75bfceceee",
     "regions": {
      "43f5b3bd-9e0c-4a98-a18c-1b9f7beaa3b8": {
       "attrs": {
        "height": 0.8,
        "width": 0.8,
        "x": 0.1,
        "y": 0.1
       },
       "content": {
        "cell": "318099ba-93dd-4c2c-a3ee-fc6622c472c8",
        "part": "whole"
       },
       "id": "43f5b3bd-9e0c-4a98-a18c-1b9f7beaa3b8"
      },
      "dbab9920-f08a-457a-949d-2c8289707798": {
       "attrs": {
        "height": 0.4,
        "width": 0.8,
        "x": 0.1,
        "y": 0.5
       },
       "content": {
        "cell": "8bb35ef7-00cc-4ad9-9dd4-6fac480df38e",
        "part": "whole"
       },
       "id": "dbab9920-f08a-457a-949d-2c8289707798"
      }
     }
    }
   },
   "themes": {}
  },
  "varInspector": {
   "cols": {
    "lenName": 16,
    "lenType": 16,
    "lenVar": 40
   },
   "kernels_config": {
    "python": {
     "delete_cmd_postfix": "",
     "delete_cmd_prefix": "del ",
     "library": "var_list.py",
     "varRefreshCmd": "print(var_dic_list())"
    },
    "r": {
     "delete_cmd_postfix": ") ",
     "delete_cmd_prefix": "rm(",
     "library": "var_list.r",
     "varRefreshCmd": "cat(var_dic_list()) "
    }
   },
   "types_to_exclude": [
    "module",
    "function",
    "builtin_function_or_method",
    "instance",
    "_Feature"
   ],
   "window_display": false
  }
 },
 "nbformat": 4,
 "nbformat_minor": 2
}
