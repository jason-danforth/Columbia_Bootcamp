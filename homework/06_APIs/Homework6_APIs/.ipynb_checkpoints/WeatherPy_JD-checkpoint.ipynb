{
 "cells": [
  {
   "cell_type": "markdown",
   "metadata": {},
   "source": [
    "# WeatherPy\n",
    "----\n",
    "\n",
    "#### Note\n",
    "* Instructions have been included for each segment. You do not have to follow them exactly, but they are included to help you think through the steps."
   ]
  },
  {
   "cell_type": "code",
   "execution_count": 1,
   "metadata": {
    "scrolled": true
   },
   "outputs": [],
   "source": [
    "# Dependencies and Setup\n",
    "import matplotlib.pyplot as plt\n",
    "import pandas as pd\n",
    "import numpy as np\n",
    "import requests\n",
    "import time\n",
    "from pprint import pprint\n",
    "\n",
    "# Import API key\n",
    "api_key = '05c56b4405b3fde15b801034b905b134'\n",
    "\n",
    "# Incorporated citipy to determine city based on latitude and longitude\n",
    "from citipy import citipy\n",
    "\n",
    "# Output File (CSV)\n",
    "output_data_file = \"output_data/cities.csv\"\n",
    "\n",
    "# Range of latitudes and longitudes\n",
    "lat_range = (-90, 90)\n",
    "lng_range = (-180, 180)"
   ]
  },
  {
   "cell_type": "markdown",
   "metadata": {},
   "source": [
    "## Generate Cities List"
   ]
  },
  {
   "cell_type": "code",
   "execution_count": 2,
   "metadata": {},
   "outputs": [
    {
     "data": {
      "text/plain": [
       "617"
      ]
     },
     "execution_count": 2,
     "metadata": {},
     "output_type": "execute_result"
    }
   ],
   "source": [
    "# List for holding lat_lngs and cities\n",
    "lat_lngs = []\n",
    "cities = []\n",
    "\n",
    "# Create a set of random lat and lng combinations\n",
    "lats = np.random.uniform(low=-90.000, high=90.000, size=1500)\n",
    "lngs = np.random.uniform(low=-180.000, high=180.000, size=1500)\n",
    "lat_lngs = zip(lats, lngs)\n",
    "\n",
    "# Identify nearest city for each lat, lng combination\n",
    "for lat_lng in lat_lngs:\n",
    "    city = citipy.nearest_city(lat_lng[0], lat_lng[1]).city_name\n",
    "    \n",
    "    # If the city is unique, then add it to a our cities list\n",
    "    if city not in cities:\n",
    "        cities.append(city)\n",
    "\n",
    "# Print the city count to confirm sufficient count\n",
    "len(cities)"
   ]
  },
  {
   "cell_type": "code",
   "execution_count": 3,
   "metadata": {
    "scrolled": true
   },
   "outputs": [
    {
     "data": {
      "text/plain": [
       "617"
      ]
     },
     "execution_count": 3,
     "metadata": {},
     "output_type": "execute_result"
    }
   ],
   "source": [
    "# confirm list of cities is non-repeating \n",
    "s = set(cities)\n",
    "len(s)"
   ]
  },
  {
   "cell_type": "code",
   "execution_count": 4,
   "metadata": {},
   "outputs": [
    {
     "data": {
      "text/plain": [
       "'kushima'"
      ]
     },
     "execution_count": 4,
     "metadata": {},
     "output_type": "execute_result"
    }
   ],
   "source": [
    "cities[0]"
   ]
  },
  {
   "cell_type": "code",
   "execution_count": 5,
   "metadata": {},
   "outputs": [
    {
     "data": {
      "text/plain": [
       "'batesville'"
      ]
     },
     "execution_count": 5,
     "metadata": {},
     "output_type": "execute_result"
    }
   ],
   "source": [
    "cities[-1]"
   ]
  },
  {
   "cell_type": "markdown",
   "metadata": {},
   "source": [
    "### Perform API Calls\n",
    "* Perform a weather check on each city using a series of successive API calls.\n",
    "* Include a print log of each city as it'sbeing processed (with the city number and city name).\n"
   ]
  },
  {
   "cell_type": "code",
   "execution_count": 6,
   "metadata": {},
   "outputs": [],
   "source": [
    "city = cities[0] \n",
    "url = f'http://api.openweathermap.org/data/2.5/weather?q={city}&APPID={api_key}'\n",
    "response = requests.get(url).json()"
   ]
  },
  {
   "cell_type": "code",
   "execution_count": 7,
   "metadata": {},
   "outputs": [
    {
     "name": "stdout",
     "output_type": "stream",
     "text": [
      "{'base': 'stations',\n",
      " 'clouds': {'all': 60},\n",
      " 'cod': 200,\n",
      " 'coord': {'lat': 31.5, 'lon': 131.29},\n",
      " 'dt': 1569689868,\n",
      " 'id': 1895695,\n",
      " 'main': {'humidity': 78,\n",
      "          'pressure': 1014,\n",
      "          'temp': 295.93,\n",
      "          'temp_max': 295.93,\n",
      "          'temp_min': 295.93},\n",
      " 'name': 'Kushima',\n",
      " 'sys': {'country': 'JP',\n",
      "         'id': 47743,\n",
      "         'message': 0.0062,\n",
      "         'sunrise': 1569704805,\n",
      "         'sunset': 1569747839,\n",
      "         'type': 3},\n",
      " 'timezone': 32400,\n",
      " 'weather': [{'description': 'broken clouds',\n",
      "              'icon': '04n',\n",
      "              'id': 803,\n",
      "              'main': 'Clouds'}],\n",
      " 'wind': {'deg': 100, 'speed': 5.36}}\n"
     ]
    }
   ],
   "source": [
    "pprint(response)"
   ]
  },
  {
   "cell_type": "code",
   "execution_count": 8,
   "metadata": {},
   "outputs": [
    {
     "data": {
      "text/plain": [
       "5.36"
      ]
     },
     "execution_count": 8,
     "metadata": {},
     "output_type": "execute_result"
    }
   ],
   "source": [
    "response.get('wind').get('speed')"
   ]
  },
  {
   "cell_type": "code",
   "execution_count": 9,
   "metadata": {},
   "outputs": [
    {
     "data": {
      "text/plain": [
       "2"
      ]
     },
     "execution_count": 9,
     "metadata": {},
     "output_type": "execute_result"
    }
   ],
   "source": [
    "min(5, 2)"
   ]
  },
  {
   "cell_type": "code",
   "execution_count": null,
   "metadata": {},
   "outputs": [
    {
     "name": "stdout",
     "output_type": "stream",
     "text": [
      "Recording values for kushima, city #0.\n",
      "Recording values for vanavara, city #1.\n",
      "Recording values for mataura, city #2.\n",
      "Recording values for portales, city #3.\n",
      "ERROR: could not find record for illoqqortoormiut, city #4\n",
      "Recording values for ushuaia, city #5.\n",
      "Recording values for port elizabeth, city #6.\n",
      "Recording values for faanui, city #7.\n",
      "Recording values for samarai, city #8.\n",
      "Recording values for hilo, city #9.\n",
      "Recording values for east london, city #10.\n",
      "Recording values for jamestown, city #11.\n",
      "Recording values for new norfolk, city #12.\n",
      "Recording values for punta arenas, city #13.\n",
      "Recording values for hirara, city #14.\n",
      "Recording values for ribeira grande, city #15.\n",
      "Recording values for rikitea, city #16.\n",
      "Recording values for san patricio, city #17.\n",
      "Recording values for pangody, city #18.\n",
      "Recording values for tuktoyaktuk, city #19.\n",
      "Recording values for flin flon, city #20.\n",
      "Recording values for narrabri, city #21.\n",
      "Recording values for vaini, city #22.\n",
      "Recording values for zhangye, city #23.\n",
      "ERROR: could not find record for nizhneyansk, city #24\n",
      "Recording values for albany, city #25.\n",
      "Recording values for bluff, city #26.\n",
      "Recording values for vanimo, city #27.\n",
      "ERROR: could not find record for tumannyy, city #28\n",
      "Recording values for goedereede, city #29.\n",
      "Recording values for khatanga, city #30.\n",
      "Recording values for klaksvik, city #31.\n",
      "Recording values for clyde river, city #32.\n",
      "Recording values for barrow, city #33.\n",
      "Recording values for pevek, city #34.\n",
      "Recording values for mokhsogollokh, city #35.\n",
      "Recording values for busselton, city #36.\n",
      "Recording values for amarante do maranhao, city #37.\n",
      "Recording values for bethel, city #38.\n",
      "Recording values for qaanaaq, city #39.\n",
      "Recording values for kalachinsk, city #40.\n",
      "Recording values for kavieng, city #41.\n",
      "Recording values for menongue, city #42.\n",
      "Recording values for lasa, city #43.\n",
      "ERROR: could not find record for mys shmidta, city #44\n",
      "Recording values for sechura, city #45.\n",
      "ERROR: could not find record for marcona, city #46\n",
      "Recording values for castro, city #47.\n",
      "Recording values for avarua, city #48.\n",
      "Recording values for yerofey pavlovich, city #49.\n",
      "Recording values for dikson, city #50.\n",
      "Recording values for hermanus, city #51.\n",
      "Recording values for portland, city #52.\n",
      "ERROR: could not find record for embonas, city #53\n",
      "Recording values for udachnyy, city #54.\n",
      "Recording values for carutapera, city #55.\n",
      "Recording values for srednekolymsk, city #56.\n",
      "Recording values for butaritari, city #57.\n",
      "Recording values for kyabe, city #58.\n",
      "Recording values for autazes, city #59.\n",
      "Recording values for kapaa, city #60.\n",
      "ERROR: could not find record for bengkulu, city #61\n",
      "Recording values for talaya, city #62.\n",
      "Recording values for atuona, city #63.\n",
      "Recording values for airai, city #64.\n",
      "Recording values for ola, city #65.\n",
      "Recording values for tiksi, city #66.\n",
      "Recording values for mogadishu, city #67.\n",
      "Recording values for hithadhoo, city #68.\n",
      "Recording values for puerto del rosario, city #69.\n",
      "Recording values for husavik, city #70.\n",
      "ERROR: could not find record for chagda, city #71\n",
      "ERROR: could not find record for tukrah, city #72\n",
      "Recording values for vestmanna, city #73.\n",
      "Recording values for kodiak, city #74.\n",
      "Recording values for oranjemund, city #75.\n",
      "Recording values for puerto ayora, city #76.\n",
      "ERROR: could not find record for bairiki, city #77\n",
      "Recording values for aklavik, city #78.\n",
      "Recording values for lebu, city #79.\n",
      "Recording values for izhma, city #80.\n",
      "Recording values for toowoomba, city #81.\n",
      "Recording values for stryn, city #82.\n",
      "Recording values for weihe, city #83.\n",
      "Recording values for fortuna, city #84.\n",
      "Recording values for myaundzha, city #85.\n",
      "ERROR: could not find record for taolanaro, city #86\n",
      "Recording values for longyearbyen, city #87.\n",
      "Recording values for san policarpo, city #88.\n",
      "Recording values for talnakh, city #89.\n",
      "Recording values for iquitos, city #90.\n",
      "Recording values for wanning, city #91.\n",
      "ERROR: could not find record for vaitupu, city #92\n",
      "Recording values for norman wells, city #93.\n",
      "Recording values for hochheim, city #94.\n",
      "Recording values for hobart, city #95.\n",
      "Recording values for ambon, city #96.\n",
      "Recording values for komsomolskiy, city #97.\n",
      "Recording values for la ronge, city #98.\n",
      "ERROR: could not find record for akyab, city #99\n",
      "Recording values for pangnirtung, city #100.\n",
      "Recording values for kalevala, city #101.\n",
      "Recording values for tasiilaq, city #102.\n",
      "Recording values for myitkyina, city #103.\n",
      "Recording values for vao, city #104.\n",
      "Recording values for provideniya, city #105.\n",
      "Recording values for hearst, city #106.\n",
      "Recording values for victoria, city #107.\n",
      "ERROR: could not find record for kyra, city #108\n",
      "Recording values for mnogovershinnyy, city #109.\n",
      "ERROR: could not find record for amderma, city #110\n",
      "Recording values for dakar, city #111.\n",
      "Recording values for leningradskiy, city #112.\n",
      "Recording values for bredasdorp, city #113.\n",
      "Recording values for chokurdakh, city #114.\n",
      "Recording values for hami, city #115.\n",
      "Recording values for abaete, city #116.\n",
      "Recording values for nedjo, city #117.\n",
      "Recording values for ramos arizpe, city #118.\n",
      "Recording values for coahuayana, city #119.\n",
      "ERROR: could not find record for burica, city #120\n",
      "Recording values for hengyang, city #121.\n",
      "Recording values for college, city #122.\n",
      "Recording values for cape town, city #123.\n",
      "ERROR: could not find record for belushya guba, city #124\n",
      "Recording values for basco, city #125.\n",
      "Recording values for mosquera, city #126.\n",
      "Recording values for west haverstraw, city #127.\n",
      "Recording values for bathurst, city #128.\n",
      "Recording values for mar del plata, city #129.\n",
      "Recording values for qarqin, city #130.\n",
      "Recording values for cayenne, city #131.\n",
      "Recording values for sijunjung, city #132.\n",
      "Recording values for saskylakh, city #133.\n",
      "Recording values for tual, city #134.\n",
      "Recording values for zihuatanejo, city #135.\n",
      "Recording values for mecca, city #136.\n",
      "Recording values for kieta, city #137.\n",
      "Recording values for dwarka, city #138.\n",
      "Recording values for anloga, city #139.\n",
      "Recording values for high level, city #140.\n",
      "Recording values for valls, city #141.\n",
      "Recording values for taoudenni, city #142.\n",
      "Recording values for pacifica, city #143.\n",
      "Recording values for nikolskoye, city #144.\n",
      "ERROR: could not find record for barentsburg, city #145\n",
      "Recording values for yulara, city #146.\n",
      "Recording values for mahebourg, city #147.\n",
      "Recording values for marysville, city #148.\n",
      "Recording values for santa marta, city #149.\n",
      "Recording values for jining, city #150.\n",
      "Recording values for reforma, city #151.\n",
      "ERROR: could not find record for louisbourg, city #152\n",
      "Recording values for alice springs, city #153.\n",
      "Recording values for male, city #154.\n",
      "Recording values for karratha, city #155.\n",
      "Recording values for hastings, city #156.\n",
      "Recording values for vikhorevka, city #157.\n",
      "Recording values for tezu, city #158.\n",
      "Recording values for maple creek, city #159.\n",
      "Recording values for esmeralda, city #160.\n",
      "Recording values for alofi, city #161.\n",
      "Recording values for yellowknife, city #162.\n",
      "Recording values for gold coast, city #163.\n",
      "Recording values for payo, city #164.\n",
      "Recording values for coihaique, city #165.\n",
      "Recording values for gweta, city #166.\n",
      "Recording values for kot samaba, city #167.\n",
      "Recording values for isangel, city #168.\n",
      "Recording values for abbeville, city #169.\n",
      "Recording values for port moresby, city #170.\n",
      "Recording values for den helder, city #171.\n"
     ]
    }
   ],
   "source": [
    "Cloudiness = []\n",
    "Humidity = []\n",
    "Wind_Speed = []\n",
    "Max_Temp = []\n",
    "Name = []\n",
    "Lat = []\n",
    "Lon = []\n",
    "\n",
    "for num, city in enumerate(cities):\n",
    "    # Make API call\n",
    "    url = f'http://api.openweathermap.org/data/2.5/weather?q={city}&APPID={api_key}'\n",
    "    response = requests.get(url).json()\n",
    "    \n",
    "    # Test whether call was successful\n",
    "    if response.get('cod') == '404':\n",
    "        print(f'ERROR: could not find record for {city}, city #{num}')\n",
    "    else:\n",
    "        print(f'Recording values for {city}, city #{num}.')\n",
    "        \n",
    "        Name.append(city)\n",
    "        \n",
    "        # Temperature\n",
    "        if response.get('main').get('temp_max') is not None:\n",
    "            # Convert temp from Kelvin to Fahrenheit\n",
    "            temp = round((response.get('main').get('temp_max') - 273.15) * 9/5 + 32, 2)\n",
    "            Max_Temp.append(temp)\n",
    "        else:\n",
    "            Max_Temp.append(0)\n",
    "\n",
    "        # Humidity\n",
    "        if response.get('main').get('humidity') is not None:\n",
    "            humidity = min(round(response.get('main').get('humidity'), 0), 100.00)\n",
    "            Humidity.append(humidity)\n",
    "        else:\n",
    "            Humidity.append(0)\n",
    "\n",
    "        # Cloudiness\n",
    "        if response.get('clouds').get('all') is not None:\n",
    "            clouds = min(response.get('clouds').get('all'), 100)\n",
    "            Cloudiness.append(clouds)\n",
    "        else:\n",
    "            Cloudiness.append(0)\n",
    "\n",
    "        # Wind\n",
    "        if response.get('wind').get('speed') is not None:\n",
    "            wind = round(response.get('wind').get('speed'), 2)\n",
    "            Wind_Speed.append(wind)\n",
    "        else:\n",
    "            Wind_Speed.append(0)\n",
    "\n",
    "        # Latitude\n",
    "        if response.get('coord').get('lat') is not None:\n",
    "            latitude = response.get('coord').get('lat')\n",
    "            Lat.append(latitude)\n",
    "        else:\n",
    "            Lat.append(0)\n",
    "\n",
    "        # Longitude\n",
    "        if response.get('coord').get('lon') is not None:\n",
    "            longitude = response.get('coord').get('lon')\n",
    "            Lon.append(longitude)"
   ]
  },
  {
   "cell_type": "code",
   "execution_count": null,
   "metadata": {},
   "outputs": [],
   "source": [
    "len(Lat)"
   ]
  },
  {
   "cell_type": "code",
   "execution_count": null,
   "metadata": {},
   "outputs": [],
   "source": [
    "len(Lon)"
   ]
  },
  {
   "cell_type": "code",
   "execution_count": null,
   "metadata": {},
   "outputs": [],
   "source": [
    "len(Name)"
   ]
  },
  {
   "cell_type": "code",
   "execution_count": null,
   "metadata": {},
   "outputs": [],
   "source": [
    "len(Max_Temp)"
   ]
  },
  {
   "cell_type": "code",
   "execution_count": null,
   "metadata": {},
   "outputs": [],
   "source": [
    "len(Cloudiness)"
   ]
  },
  {
   "cell_type": "code",
   "execution_count": null,
   "metadata": {},
   "outputs": [],
   "source": [
    "len(Humidity)"
   ]
  },
  {
   "cell_type": "code",
   "execution_count": null,
   "metadata": {},
   "outputs": [],
   "source": [
    "len(Wind_Speed)"
   ]
  },
  {
   "cell_type": "markdown",
   "metadata": {},
   "source": [
    "### Convert Raw Data to DataFrame\n",
    "* Export the city data into a .csv.\n",
    "* Display the DataFrame"
   ]
  },
  {
   "cell_type": "code",
   "execution_count": null,
   "metadata": {},
   "outputs": [],
   "source": [
    "df = pd.DataFrame(Name, columns=['Name'])\n",
    "df['Lat'] = Lat\n",
    "df['Lon'] = Lon\n",
    "df['Temp'] = Max_Temp\n",
    "df['Cloudiness'] = Cloudiness\n",
    "df['Humidity'] = Humidity\n",
    "df['Wind'] = Wind_Speed"
   ]
  },
  {
   "cell_type": "code",
   "execution_count": null,
   "metadata": {
    "scrolled": true
   },
   "outputs": [],
   "source": [
    "df"
   ]
  },
  {
   "cell_type": "code",
   "execution_count": null,
   "metadata": {},
   "outputs": [],
   "source": [
    "df.to_csv('results.csv')"
   ]
  },
  {
   "cell_type": "markdown",
   "metadata": {},
   "source": [
    "### Plotting the Data\n",
    "* Use proper labeling of the plots using plot titles (including date of analysis) and axes labels.\n",
    "* Save the plotted figures as .pngs."
   ]
  },
  {
   "cell_type": "markdown",
   "metadata": {},
   "source": [
    "#### Latitude vs. Temperature Plot"
   ]
  },
  {
   "cell_type": "code",
   "execution_count": null,
   "metadata": {},
   "outputs": [],
   "source": [
    "fig, ax = plt.subplots(figsize=(10,5))\n",
    "plt.scatter(Lat, Max_Temp, alpha=0.5)\n",
    "plt.grid()\n",
    "plt.title('City Latitude vs. Max Temperature (8/17/2019)')\n",
    "plt.xlabel('Latitude')\n",
    "plt.ylabel('Temperature (F)')\n",
    "plt.savefig('Temp.png')"
   ]
  },
  {
   "cell_type": "markdown",
   "metadata": {},
   "source": [
    "#### Latitude vs. Humidity Plot"
   ]
  },
  {
   "cell_type": "code",
   "execution_count": null,
   "metadata": {},
   "outputs": [],
   "source": [
    "fig, ax = plt.subplots(figsize=(10,5))\n",
    "plt.scatter(Lat, Humidity, alpha=0.5)\n",
    "plt.grid()\n",
    "plt.title('City Latitude vs. Humidity (8/17/2019)')\n",
    "plt.xlabel('Latitude')\n",
    "plt.ylabel('Humidity (%)')\n",
    "plt.savefig('Humidity.png')"
   ]
  },
  {
   "cell_type": "markdown",
   "metadata": {},
   "source": [
    "#### Latitude vs. Cloudiness Plot"
   ]
  },
  {
   "cell_type": "code",
   "execution_count": null,
   "metadata": {},
   "outputs": [],
   "source": [
    "fig, ax = plt.subplots(figsize=(10,5))\n",
    "plt.scatter(Lat, Cloudiness, alpha=0.5)\n",
    "plt.grid()\n",
    "plt.title('City Latitude vs. Cloudiness (8/17/2019)')\n",
    "plt.xlabel('Latitude')\n",
    "plt.ylabel('Cloudiness (%)')\n",
    "plt.savefig('Cloudiness.png')"
   ]
  },
  {
   "cell_type": "markdown",
   "metadata": {},
   "source": [
    "#### Latitude vs. Wind Speed Plot"
   ]
  },
  {
   "cell_type": "code",
   "execution_count": null,
   "metadata": {},
   "outputs": [],
   "source": [
    "fig, ax = plt.subplots(figsize=(10,5))\n",
    "plt.scatter(Lat, Wind_Speed, alpha=0.5)\n",
    "plt.grid()\n",
    "plt.title('City Latitude vs. Wind Speed (8/17/2019)')\n",
    "plt.xlabel('Latitude')\n",
    "plt.ylabel('Wind Speed (m/s)')\n",
    "plt.savefig('Wind.png')"
   ]
  },
  {
   "cell_type": "markdown",
   "metadata": {},
   "source": [
    "Just to state the obvious, weather data is enormously complex, and any rigorous attempt to understand it would need to use typical meterological data and account for time of year, time of day, etc. Since I'm using the free account of the API, this study doesn't even attempt to do that..."
   ]
  },
  {
   "cell_type": "markdown",
   "metadata": {},
   "source": [
    "# Observations"
   ]
  },
  {
   "cell_type": "markdown",
   "metadata": {},
   "source": [
    "1. Temperature generally rises as Latitude approaches the equator, but the highest temperatures recorded are slightly North. This is likely due to cities in Northern Africa and could be confirmed by comparing with Longitude. \n",
    "\n",
    "\n",
    "2. Humidity is recorded near 100% across Latitudes. While not specified in the API, it is clear from the values approaching 100 that this is a measurement of relative (not absolute) humidity. If it were absolute humidity, we would likely see the highest values near the equator. Not that some of the lowest values for Humidity are just north of the equator, and are likely the same cities with the highest temperature (which would confirm the hypothesis that these cities are in Northern Africa). Again, these could be easily confirmed through additional exploration. \n",
    "\n",
    "\n",
    "3. While the results from Wind Speed are certainly not strong enough to be conclusive, there is a suggstion of higher wind speeds in the far northern and southern latitudes. 10 m/s winds are very strong, and 16 m/s winds are extreme. Wind speeds have enormous fluctuations throughout the day (let alone the year), so it would be interesting to collect more hourly data for these cities, from either EPW or TMY files, and develop a fuller understanding of these patterns. "
   ]
  },
  {
   "cell_type": "code",
   "execution_count": null,
   "metadata": {},
   "outputs": [],
   "source": []
  }
 ],
 "metadata": {
  "anaconda-cloud": {},
  "kernel_info": {
   "name": "python3"
  },
  "kernelspec": {
   "display_name": "Python 3",
   "language": "python",
   "name": "python3"
  },
  "language_info": {
   "codemirror_mode": {
    "name": "ipython",
    "version": 3
   },
   "file_extension": ".py",
   "mimetype": "text/x-python",
   "name": "python",
   "nbconvert_exporter": "python",
   "pygments_lexer": "ipython3",
   "version": "3.6.5"
  },
  "nteract": {
   "version": "0.12.3"
  }
 },
 "nbformat": 4,
 "nbformat_minor": 2
}
