{
 "cells": [
  {
   "cell_type": "markdown",
   "metadata": {},
   "source": [
    "https://www.udemy.com/course/11-essential-coding-interview-questions/learn/lecture/7709028#overview"
   ]
  },
  {
   "cell_type": "markdown",
   "metadata": {},
   "source": [
    "### Better than brute force"
   ]
  },
  {
   "cell_type": "code",
   "execution_count": 7,
   "metadata": {},
   "outputs": [],
   "source": [
    "target = 20\n",
    "arr = [1, 2, 3, 4, 15, -7, 8, 5, 10]"
   ]
  },
  {
   "cell_type": "code",
   "execution_count": 8,
   "metadata": {},
   "outputs": [],
   "source": [
    "def hit_target(target, arr):\n",
    "    answer = []\n",
    "    checked_vals = []\n",
    "    for i in arr:\n",
    "        if i in checked_vals:\n",
    "            pass\n",
    "        else:\n",
    "            for j in checked_vals:\n",
    "                if i * j == target:\n",
    "                    answer.append([i, j])\n",
    "                    return answer\n",
    "        checked_vals.append(i)"
   ]
  },
  {
   "cell_type": "code",
   "execution_count": 9,
   "metadata": {},
   "outputs": [
    {
     "data": {
      "text/plain": [
       "[[5, 4]]"
      ]
     },
     "execution_count": 9,
     "metadata": {},
     "output_type": "execute_result"
    }
   ],
   "source": [
    "hit_target(target, arr)"
   ]
  },
  {
   "cell_type": "code",
   "execution_count": null,
   "metadata": {},
   "outputs": [],
   "source": []
  },
  {
   "cell_type": "markdown",
   "metadata": {},
   "source": [
    "### Return most frequent"
   ]
  },
  {
   "cell_type": "code",
   "execution_count": 30,
   "metadata": {},
   "outputs": [],
   "source": [
    "arr = [2, 3, 4, 3, 15, -7, 8, 5, 10, 9, 3, 3, 3, 4, 17, 100, -8, 3.1, 2, 6]"
   ]
  },
  {
   "cell_type": "code",
   "execution_count": 41,
   "metadata": {},
   "outputs": [],
   "source": [
    "# Note that there's no fancy method for pulling the key with the max value\n",
    "# just a simple way to keep track of the max_count while building the dict\n",
    "\n",
    "def most_freq(arr):\n",
    "    my_dict = {}\n",
    "    max_item = None\n",
    "    max_count = -1\n",
    "    for val in arr:\n",
    "        if val in my_dict.keys():\n",
    "            my_dict[val] += 1\n",
    "            if my_dict[val] > max_count:\n",
    "                max_count = my_dict[val]\n",
    "                max_item = val\n",
    "        else:\n",
    "            my_dict[val] = 1\n",
    "    return max_item"
   ]
  },
  {
   "cell_type": "code",
   "execution_count": 42,
   "metadata": {},
   "outputs": [
    {
     "data": {
      "text/plain": [
       "3"
      ]
     },
     "execution_count": 42,
     "metadata": {},
     "output_type": "execute_result"
    }
   ],
   "source": [
    "most_freq(arr)"
   ]
  },
  {
   "cell_type": "code",
   "execution_count": null,
   "metadata": {},
   "outputs": [],
   "source": []
  },
  {
   "cell_type": "markdown",
   "metadata": {},
   "source": [
    "### Find Common Elements"
   ]
  },
  {
   "cell_type": "markdown",
   "metadata": {},
   "source": [
    "Simple, brute force method"
   ]
  },
  {
   "cell_type": "code",
   "execution_count": 48,
   "metadata": {},
   "outputs": [],
   "source": [
    "A = [1, 3, 4, 6, 7, 9]\n",
    "B = [1, 2, 4, 5, 9, 10]"
   ]
  },
  {
   "cell_type": "code",
   "execution_count": 58,
   "metadata": {},
   "outputs": [],
   "source": [
    "def common_vals(A, B):\n",
    "    common = []\n",
    "    for i in set(A): \n",
    "        if i in set(B):\n",
    "            common.append(i)\n",
    "    return common"
   ]
  },
  {
   "cell_type": "code",
   "execution_count": 59,
   "metadata": {},
   "outputs": [
    {
     "data": {
      "text/plain": [
       "[1, 4, 9]"
      ]
     },
     "execution_count": 59,
     "metadata": {},
     "output_type": "execute_result"
    }
   ],
   "source": [
    "common_vals(A, B)"
   ]
  },
  {
   "cell_type": "code",
   "execution_count": null,
   "metadata": {},
   "outputs": [],
   "source": []
  },
  {
   "cell_type": "markdown",
   "metadata": {},
   "source": [
    "More advanced method, but janky..."
   ]
  },
  {
   "cell_type": "code",
   "execution_count": 111,
   "metadata": {},
   "outputs": [],
   "source": [
    "A = [1, 3, 4, 10000]\n",
    "B = [1, 2, 4, 5, 9, 10, 13, 1000]"
   ]
  },
  {
   "cell_type": "code",
   "execution_count": 112,
   "metadata": {},
   "outputs": [],
   "source": [
    "# find a smarter way that takes advantage of the fact that the lists are sorted\n",
    "\n",
    "def common(A, B):\n",
    "    common_vals = []\n",
    "    count = 0\n",
    "    \n",
    "    if len(A) < len(B):\n",
    "        shortest = sorted(A)\n",
    "        longest = sorted(B)\n",
    "    else:\n",
    "        shortest = sorted(B)\n",
    "        longest = sorted(A)\n",
    "    \n",
    "    for val in shortest:\n",
    "\n",
    "        while val >= longest[count]:\n",
    "            if val == longest[count]:\n",
    "                common_vals.append(val)\n",
    "                count += 1\n",
    "                break\n",
    "            if count >= len(longest) - 1:\n",
    "                return common_vals\n",
    "            count += 1\n",
    "            \n",
    "    return common_vals"
   ]
  },
  {
   "cell_type": "code",
   "execution_count": 113,
   "metadata": {},
   "outputs": [
    {
     "data": {
      "text/plain": [
       "[1, 4]"
      ]
     },
     "execution_count": 113,
     "metadata": {},
     "output_type": "execute_result"
    }
   ],
   "source": [
    "common(A, B)"
   ]
  },
  {
   "cell_type": "code",
   "execution_count": null,
   "metadata": {},
   "outputs": [],
   "source": []
  },
  {
   "cell_type": "markdown",
   "metadata": {},
   "source": [
    "Instructor Solution"
   ]
  },
  {
   "cell_type": "code",
   "execution_count": 121,
   "metadata": {},
   "outputs": [],
   "source": [
    "B = [1, 3, 4, 9, 10000]\n",
    "A = [1, 2, 4, 5, 9, 10, 13, 99, 999, 1000]"
   ]
  },
  {
   "cell_type": "code",
   "execution_count": 124,
   "metadata": {},
   "outputs": [],
   "source": [
    "def common_items(A, B):\n",
    "    count_a = 0\n",
    "    count_b = 0\n",
    "    common = []\n",
    "    \n",
    "    A = sorted(A)\n",
    "    B = sorted(B)\n",
    "    \n",
    "    while count_a < len(A) and count_b < len(B):\n",
    "        if A[count_a] == B[count_b]:\n",
    "            common.append(A[count_a])\n",
    "            count_a += 1\n",
    "            count_b +=1\n",
    "        elif A[count_a] > B[count_b]:\n",
    "            count_b += 1\n",
    "        else:\n",
    "            count_a += 1\n",
    "    return common"
   ]
  },
  {
   "cell_type": "code",
   "execution_count": 125,
   "metadata": {},
   "outputs": [
    {
     "data": {
      "text/plain": [
       "[1, 4, 9]"
      ]
     },
     "execution_count": 125,
     "metadata": {},
     "output_type": "execute_result"
    }
   ],
   "source": [
    "common_items(A, B)"
   ]
  },
  {
   "cell_type": "code",
   "execution_count": null,
   "metadata": {},
   "outputs": [],
   "source": []
  },
  {
   "cell_type": "code",
   "execution_count": null,
   "metadata": {},
   "outputs": [],
   "source": []
  }
 ],
 "metadata": {
  "kernelspec": {
   "display_name": "Python 3",
   "language": "python",
   "name": "python3"
  },
  "language_info": {
   "codemirror_mode": {
    "name": "ipython",
    "version": 3
   },
   "file_extension": ".py",
   "mimetype": "text/x-python",
   "name": "python",
   "nbconvert_exporter": "python",
   "pygments_lexer": "ipython3",
   "version": "3.7.3"
  }
 },
 "nbformat": 4,
 "nbformat_minor": 2
}
