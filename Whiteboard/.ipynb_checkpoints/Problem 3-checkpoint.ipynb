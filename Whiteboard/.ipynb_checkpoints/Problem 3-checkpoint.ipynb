{
 "cells": [
  {
   "cell_type": "markdown",
   "metadata": {},
   "source": [
    "Take two arrays [-1, 3, 8, 2, 9, 5] and [4, 1, 2, 10, 5, 20] and find the pair closest to a target 24"
   ]
  },
  {
   "cell_type": "code",
   "execution_count": 48,
   "metadata": {},
   "outputs": [],
   "source": [
    "list_a = [-1, 3, 8, 2, 9, 5]\n",
    "list_b = [4, 1, 2, 10, 5, 20]\n",
    "target = 24"
   ]
  },
  {
   "cell_type": "code",
   "execution_count": 49,
   "metadata": {},
   "outputs": [],
   "source": [
    "def min_dist(list_1, list_2, target):\n",
    "    values = []\n",
    "    distances = []\n",
    "    already_tried = []\n",
    "    for i in list_1:\n",
    "        for j in list_2:\n",
    "            if {i, j} in already_tried:\n",
    "                pass\n",
    "            else:\n",
    "                already_tried.append({i, j})\n",
    "                i = float(i)\n",
    "                j = float(j)\n",
    "                dist = abs((i + j) - target)\n",
    "                pair = [i, j]\n",
    "                values.append([pair, dist])\n",
    "                distances.append(dist)\n",
    "    \n",
    "    shortest_d = sorted(distances)[0]\n",
    "    answers = []\n",
    "    for pair, distance in values:\n",
    "        if distance == shortest_d:\n",
    "            answers.append(pair)\n",
    "    \n",
    "    return answers"
   ]
  },
  {
   "cell_type": "code",
   "execution_count": 50,
   "metadata": {},
   "outputs": [
    {
     "data": {
      "text/plain": [
       "[[3.0, 20.0], [5.0, 20.0]]"
      ]
     },
     "execution_count": 50,
     "metadata": {},
     "output_type": "execute_result"
    }
   ],
   "source": [
    "min_dist(list_a, list_b, target)"
   ]
  },
  {
   "cell_type": "code",
   "execution_count": null,
   "metadata": {},
   "outputs": [],
   "source": []
  },
  {
   "cell_type": "code",
   "execution_count": null,
   "metadata": {},
   "outputs": [],
   "source": []
  }
 ],
 "metadata": {
  "kernelspec": {
   "display_name": "Python 3",
   "language": "python",
   "name": "python3"
  },
  "language_info": {
   "codemirror_mode": {
    "name": "ipython",
    "version": 3
   },
   "file_extension": ".py",
   "mimetype": "text/x-python",
   "name": "python",
   "nbconvert_exporter": "python",
   "pygments_lexer": "ipython3",
   "version": "3.7.3"
  }
 },
 "nbformat": 4,
 "nbformat_minor": 2
}
